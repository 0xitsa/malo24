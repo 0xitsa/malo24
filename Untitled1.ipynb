{
 "cells": [
  {
   "cell_type": "code",
   "execution_count": 1,
   "id": "f51e37cc",
   "metadata": {},
   "outputs": [],
   "source": [
    "# Import necessary classes from propositional.py\n",
    "from propositional import BigAnd, Interpretation\n",
    "\n",
    "def unit_propagation_rule(formula: BigAnd) -> tuple[BigAnd, Interpretation]:\n",
    "    \"\"\"\n",
    "    Applies the unit propagation rule to the given CNF formula.\n",
    "\n",
    "    Args:\n",
    "        formula: A CNF formula represented as a BigAnd object.\n",
    "\n",
    "    Returns:\n",
    "        A tuple containing:\n",
    "            - The simplified formula after applying the rule.\n",
    "            - A dictionary representing the interpretation assigned to unit literals.\n",
    "    \"\"\"\n",
    "    interpretation = {}\n",
    "    unit_clauses = [clause for clause in formula.subformulae if len(clause.subformulae) == 1]\n",
    "\n",
    "    # While there are unit clauses:\n",
    "    while unit_clauses:\n",
    "        # Extract the literal from the unit clause\n",
    "        unit = unit_clauses.pop()\n",
    "        lit = next(iter(unit.symbols))\n",
    "        interpretation[lit] = True\n",
    "\n",
    "        # Remove clauses containing the literal, or simplify them if they contain the negation of the literal\n",
    "        new_clauses = []\n",
    "        for clause in formula.subformulae:\n",
    "            if lit in clause.symbols:\n",
    "                # Remove the clause\n",
    "                continue\n",
    "            else:\n",
    "                # Simplify the clause by removing the negation of the literal\n",
    "                new_clause = BigAnd(*[l for l in clause.subformulae if l != -lit])\n",
    "                if len(new_clause.subformulae) == 1:\n",
    "                    # If the simplified clause is a unit clause, add it to the queue\n",
    "                    unit_clauses.append(new_clause)\n",
    "                new_clauses.append(new_clause)\n",
    "\n",
    "        # Update the formula with the simplified clauses\n",
    "        formula = BigAnd(*new_clauses)\n",
    "\n",
    "    return formula, interpretation\n",
    "\n",
    "def simplify(formula: BigAnd) -> tuple[BigAnd, Interpretation]:\n",
    "    \"\"\"\n",
    "    Simplifies a CNF formula using the pure literal rule and unit propagation.\n",
    "\n",
    "    Args:\n",
    "        formula: The CNF formula to simplify.\n",
    "\n",
    "    Returns:\n",
    "        A tuple containing:\n",
    "            - The simplified formula.\n",
    "            - A dictionary representing the accumulated interpretation from applying the rules.\n",
    "    \"\"\"\n",
    "    total_interpretation = {}\n",
    "\n",
    "    # Repeatedly apply the rules until no more simplifications are possible\n",
    "    while True:\n",
    "        # Apply the pure literal rule\n",
    "        formula, pure_interpretation = pure_literal_rule(formula)\n",
    "        total_interpretation.update(pure_interpretation)\n",
    "\n",
    "        # Apply the unit propagation rule\n",
    "        formula, unit_interpretation = unit_propagation_rule(formula)\n",
    "        total_interpretation.update(unit_interpretation)\n",
    "\n",
    "        # Stop if neither rule has produced any changes\n",
    "        if not pure_interpretation and not unit_interpretation:\n",
    "            break\n",
    "\n",
    "    return formula, total_interpretation"
   ]
  },
  {
   "cell_type": "code",
   "execution_count": 2,
   "id": "d798d6cf",
   "metadata": {},
   "outputs": [],
   "source": [
    "def dpll(formula: BigAnd) -> Interpretation | None:\n",
    "    \"\"\"\n",
    "    Implements the DPLL algorithm to find a satisfying assignment for a CNF formula.\n",
    "\n",
    "    Args:\n",
    "        formula: A CNF formula represented as a BigAnd object.\n",
    "\n",
    "    Returns:\n",
    "        A dictionary representing a satisfying assignment for the formula, or None if no such assignment exists.\n",
    "    \"\"\"\n",
    "    # Simplify the formula using the pure literal rule and unit propagation\n",
    "    formula, interpretation = simplify(formula)\n",
    "\n",
    "    # Check if the formula is empty (all clauses have been satisfied)\n",
    "    if not formula.subformulae:\n",
    "        return interpretation\n",
    "\n",
    "    # Check if the formula contains an empty clause (a contradiction)\n",
    "    if any(not clause.subformulae for clause in formula.subformulae):\n",
    "        return None\n",
    "\n",
    "    # Choose an unassigned variable\n",
    "    unassigned_literals = {lit for clause in formula.subformulae for lit in clause.symbols if lit not in interpretation}\n",
    "    var = next(iter(unassigned_literals))\n",
    "\n",
    "    # Create two branches: one where the variable is assigned True and another where it is assigned False\n",
    "    true_interpretation = interpretation.copy()\n",
    "    true_interpretation[var] = True\n",
    "    false_interpretation = interpretation.copy()\n",
    "    false_interpretation[-var] = True\n",
    "\n",
    "    # Recursively apply the DPLL algorithm to each branch\n",
    "    true_result = dpll(formula, true_interpretation)\n",
    "    if true_result is not None:\n",
    "        return true_result\n",
    "\n",
    "    false_result = dpll(formula, false_interpretation)\n",
    "    return false_result"
   ]
  },
  {
   "cell_type": "code",
   "execution_count": 6,
   "id": "6f67bb92",
   "metadata": {},
   "outputs": [],
   "source": [
    "\n",
    "def pure_literal_rule(formula: BigAnd) -> tuple[BigAnd, Interpretation]:\n",
    "    \"\"\"\n",
    "    Applies the pure literal rule to the given CNF formula.\n",
    "\n",
    "    Args:\n",
    "        formula: A CNF formula represented as a BigAnd object.\n",
    "\n",
    "    Returns:\n",
    "        A tuple containing:\n",
    "            - The simplified formula after applying the rule.\n",
    "            - A dictionary representing the interpretation assigned to pure literals.\n",
    "    \"\"\"\n",
    "    interpretation = {}\n",
    "    new_clauses = []\n",
    "\n",
    "    # Collect all literals in the formula\n",
    "    literals = set()\n",
    "    for clause in formula.subformulae:\n",
    "        literals.update(clause.symbols)\n",
    "\n",
    "    # Find pure literals (those without their negation)\n",
    "    pure_literals = {lit for lit in literals if -lit not in literals}\n",
    "\n",
    "    # Remove clauses containing pure literals and assign them to true\n",
    "    for clause in formula.subformulae:\n",
    "        if not pure_literals.intersection(clause.symbols):\n",
    "            new_clauses.append(clause)\n",
    "\n",
    "    for lit in pure_literals:\n",
    "        interpretation[lit] = True\n",
    "\n",
    "    # Construct the simplified formula\n",
    "    simplified_formula = BigAnd(*new_clauses)\n",
    "    return simplified_formula, interpretation\n"
   ]
  },
  {
   "cell_type": "code",
   "execution_count": 3,
   "id": "5ccf505d",
   "metadata": {},
   "outputs": [],
   "source": [
    "from propositional import *\n"
   ]
  },
  {
   "cell_type": "code",
   "execution_count": 4,
   "id": "a9e1241a",
   "metadata": {},
   "outputs": [],
   "source": [
    "f = BigAnd(Formula.parse(\"(X \\\\/ Y)\"), Formula.parse(\"(X \\\\/ ~Y)\"), Formula.parse(\"(Z \\\\/ ~Z)\"))"
   ]
  },
  {
   "cell_type": "code",
   "execution_count": 12,
   "id": "9000e46d",
   "metadata": {},
   "outputs": [],
   "source": [
    "interpretation = {}\n",
    "new_clauses = []"
   ]
  },
  {
   "cell_type": "code",
   "execution_count": 14,
   "id": "0b7315d0",
   "metadata": {},
   "outputs": [],
   "source": [
    "literals = set()\n",
    "for clause in f:\n",
    "    literals.update(clause.symbols)"
   ]
  },
  {
   "cell_type": "code",
   "execution_count": 15,
   "id": "91c18b7c",
   "metadata": {},
   "outputs": [
    {
     "data": {
      "text/plain": [
       "{Symbol(label='X'), Symbol(label='Y'), Symbol(label='Z')}"
      ]
     },
     "execution_count": 15,
     "metadata": {},
     "output_type": "execute_result"
    }
   ],
   "source": [
    "literals"
   ]
  },
  {
   "cell_type": "code",
   "execution_count": 16,
   "id": "d1f63fc2",
   "metadata": {},
   "outputs": [],
   "source": [
    "a1 = Formula.parse(\"(X \\\\/ ~Y)\")\n",
    "a2 = Formula.parse(\"(~X \\\\/ Y)\")"
   ]
  },
  {
   "cell_type": "code",
   "execution_count": 19,
   "id": "0ba4c212",
   "metadata": {},
   "outputs": [
    {
     "data": {
      "text/plain": [
       "frozenset({'\\\\/', '~'})"
      ]
     },
     "execution_count": 19,
     "metadata": {},
     "output_type": "execute_result"
    }
   ],
   "source": [
    "a1.operators"
   ]
  },
  {
   "cell_type": "code",
   "execution_count": 35,
   "id": "a8856006",
   "metadata": {},
   "outputs": [
    {
     "name": "stdout",
     "output_type": "stream",
     "text": [
      "frozenset({'\\\\/', '~', '/\\\\'})\n",
      "False\n",
      "True\n",
      "True\n"
     ]
    }
   ],
   "source": [
    "print(f.operators)\n",
    "for i in f.subformulae:\n",
    "    if '~' in i.operators:\n",
    "        get_lits(f)\n",
    "    else: literals.update(i.symbols)"
   ]
  },
  {
   "cell_type": "code",
   "execution_count": null,
   "id": "ad3bb53f",
   "metadata": {},
   "outputs": [],
   "source": []
  },
  {
   "cell_type": "code",
   "execution_count": null,
   "id": "87930750",
   "metadata": {},
   "outputs": [],
   "source": []
  }
 ],
 "metadata": {
  "kernelspec": {
   "display_name": "Python 3 (ipykernel)",
   "language": "python",
   "name": "python3"
  },
  "language_info": {
   "codemirror_mode": {
    "name": "ipython",
    "version": 3
   },
   "file_extension": ".py",
   "mimetype": "text/x-python",
   "name": "python",
   "nbconvert_exporter": "python",
   "pygments_lexer": "ipython3",
   "version": "3.11.2"
  }
 },
 "nbformat": 4,
 "nbformat_minor": 5
}
