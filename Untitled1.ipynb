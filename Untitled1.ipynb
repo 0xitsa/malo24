{
 "cells": [
  {
   "cell_type": "code",
   "execution_count": 1,
   "id": "49426f1f",
   "metadata": {},
   "outputs": [],
   "source": [
    "from assignment import *\n",
    "from propositional import *\n",
    "from util import *"
   ]
  },
  {
   "cell_type": "code",
   "execution_count": 2,
   "id": "67fa95ad",
   "metadata": {},
   "outputs": [],
   "source": [
    "def to_nnf_neg(formula):\n",
    "    sub = formula.subformula\n",
    "    if type(sub).__name__ == 'Or':\n",
    "        corr = And(Neg(sub.first), Neg(sub.second))\n",
    "    elif type(sub).__name__ == 'And':\n",
    "        corr = Or(Neg(sub.first), Neg(sub.second))\n",
    "    elif type(sub).__name__ == 'Impl':\n",
    "        corr = to_nnf_neg(Neg(to_nnf_impl(sub)))\n",
    "    elif type(sub).__name__ == 'Neg':\n",
    "        corr = sub.subformula\n",
    "    elif type(sub).__name__ == 'Symbol':\n",
    "        corr = formula\n",
    "        return corr\n",
    "    elif type(sub).__name__ == 'BigOr':\n",
    "        corrs = [to_nnf(Neg(subi)) for subi in sub.subformulae]\n",
    "        corr = BigAnd(corrs)\n",
    "    elif type(sub).__name__ == 'BigAnd':\n",
    "        corrs = [to_nnf(subi) for subi in sub.subformulae]\n",
    "        corr = BigOr(corrs)\n",
    "    elif type(sub).__name__ == 'bool' or type(formula).__name__ == 'Constant':\n",
    "        return formula\n",
    "    return to_nnf(corr)"
   ]
  },
  {
   "cell_type": "code",
   "execution_count": 3,
   "id": "9af4125b",
   "metadata": {},
   "outputs": [],
   "source": [
    "def to_nnf_impl(formula):\n",
    "    corr = Or(to_nnf_neg(Neg(formula.first)), to_nnf(formula.second))\n",
    "    return to_nnf(corr)"
   ]
  },
  {
   "cell_type": "code",
   "execution_count": 4,
   "id": "4fecea36",
   "metadata": {},
   "outputs": [],
   "source": [
    "def to_nnf(formula):\n",
    "    #print('correcting :', formula)\n",
    "    if type(formula).__name__ == 'Neg':\n",
    "        corr = to_nnf_neg(formula)\n",
    "    if type(formula).__name__ == 'Or':\n",
    "        corr = Or(to_nnf(formula.first), to_nnf(formula.second))\n",
    "    elif type(formula).__name__ == 'And':\n",
    "        corr = And(to_nnf(formula.first), to_nnf(formula.second))\n",
    "    elif type(formula).__name__ == 'Impl':\n",
    "        corr = to_nnf_impl(formula)\n",
    "    elif type(formula).__name__ == 'Symbol':\n",
    "        corr = formula\n",
    "    elif type(formula).__name__ == 'BigOr':\n",
    "        corrs = [to_nnf(sub) for sub in formula.subformulae]\n",
    "        corr = BigOr(corrs)\n",
    "    elif type(formula).__name__ == 'BigAnd':\n",
    "        corrs = [to_nnf(sub) for sub in formula.subformulae]\n",
    "        corr = BigAnd(corrs)\n",
    "    elif type(formula).__name__ == 'bool' or type(formula).__name__ == 'Constant':\n",
    "        return formula\n",
    "    #print('correctiON :', corr)\n",
    "    return corr"
   ]
  },
  {
   "cell_type": "code",
   "execution_count": 5,
   "id": "230a2a6a",
   "metadata": {},
   "outputs": [
    {
     "name": "stdout",
     "output_type": "stream",
     "text": [
      "~(~(A \\/ B) \\/ ~(A -> B))\n"
     ]
    }
   ],
   "source": [
    "form = Neg(BigOr(subformulae=[Neg(Or(Symbol('A'), Symbol('B'))), Neg(Impl(Symbol('A'), Symbol('B')))]))\n",
    "print(form)"
   ]
  },
  {
   "cell_type": "code",
   "execution_count": 6,
   "id": "dc6a8459",
   "metadata": {},
   "outputs": [],
   "source": [
    "form = Impl(first=And(first=Neg(Symbol('P')), second=Neg(Impl(first=Or(first=Symbol('P'), second=Symbol('Q')), second=Symbol('P')))), second=False)"
   ]
  },
  {
   "cell_type": "code",
   "execution_count": 7,
   "id": "39829ffc",
   "metadata": {},
   "outputs": [
    {
     "name": "stdout",
     "output_type": "stream",
     "text": [
      "((P \\/ ((~P /\\ ~Q) \\/ P)) \\/ False)\n"
     ]
    }
   ],
   "source": [
    "corr = to_nnf(form)\n",
    "print(corr)"
   ]
  },
  {
   "cell_type": "code",
   "execution_count": 8,
   "id": "4ebddfe6",
   "metadata": {},
   "outputs": [],
   "source": [
    "def big_maker(formula):\n",
    "    if type(formula).__name__ == 'Neg':\n",
    "        return big_maker(formula.subformula)\n",
    "    if type(formula).__name__ == 'Or':\n",
    "        return BigOr([big_maker(formula.first), big_maker(formula.second)])\n",
    "    elif type(formula).__name__ == 'And':\n",
    "        return BigAnd([big_maker(formula.first), big_maker(formula.second)])\n",
    "    elif type(formula).__name__ == 'Symbol':\n",
    "        return formula\n",
    "    elif type(formula).__name__ == 'BigOr':\n",
    "        return formula\n",
    "    elif type(formula).__name__ == 'BigAnd':\n",
    "        return formula\n",
    "    elif type(formula).__name__ == 'bool' or type(formula).__name__ == 'Constant':\n",
    "        return formula"
   ]
  },
  {
   "cell_type": "code",
   "execution_count": 9,
   "id": "28e5fba9",
   "metadata": {},
   "outputs": [],
   "source": [
    "big = big_maker(corr)"
   ]
  },
  {
   "cell_type": "code",
   "execution_count": 185,
   "id": "795c7d30",
   "metadata": {},
   "outputs": [],
   "source": [
    "def to_cnf_or(formula):\n",
    "    corr = BigOr([])\n",
    "    for idx, el in enumerate(formula.subformulae):\n",
    "        if type(el).__name__ == 'BigAnd':\n",
    "            cl = []\n",
    "            for subel in el.subformulae:\n",
    "                cl.append(BigOr(formula.subformulae[:idx] + formula.subformulae[1+idx:] + [subel]))\n",
    "            corr = BigAnd([to_cnf(c) for c in cl])\n",
    "            break\n",
    "        elif type(el).__name__ == \"BigOr\":\n",
    "            sub = to_cnf(el)\n",
    "            corr.subformulae.append(sub.subformulae)\n",
    "    print(f'correction* OR: {corr}')\n",
    "    return corr"
   ]
  },
  {
   "cell_type": "code",
   "execution_count": 187,
   "id": "4b7646be",
   "metadata": {},
   "outputs": [],
   "source": [
    "def is_clause(formula):\n",
    "    subs = formula.subformulae\n",
    "    out = []\n",
    "    for i in subs:\n",
    "        if type(i).__name__ in ['And', 'BigAnd']:\n",
    "            return False\n",
    "        elif type(i).__name__ == 'BigOr':\n",
    "            out.append(is_clause(i))\n",
    "    for o in out:\n",
    "        if o != True: return False\n",
    "    return True"
   ]
  },
  {
   "cell_type": "code",
   "execution_count": 188,
   "id": "2c49090f",
   "metadata": {},
   "outputs": [],
   "source": [
    "def is_cnf(formula):\n",
    "    subs = formula.subformulae\n",
    "    for i in subs:\n",
    "        if type(i).__name__ == 'BigOr' and not is_clause(i): return False\n",
    "        if type(i).__name__ in ['Or']: return False\n",
    "    return True"
   ]
  },
  {
   "cell_type": "code",
   "execution_count": 189,
   "id": "c8500a79",
   "metadata": {},
   "outputs": [],
   "source": [
    "def to_cnf(formula):\n",
    "    corr = formula\n",
    "    print(f\"correcting: {formula}\")\n",
    "    formula = big_maker(formula)\n",
    "    print(type(formula).__name__)\n",
    "    if type(formula).__name__ == 'BigOr' and not is_clause(formula):\n",
    "        corr = to_cnf_or(formula)\n",
    "    elif type(formula).__name__ == 'BigAnd' and not is_cnf(formula):\n",
    "        corr = to_cnf_and(formula)\n",
    "    print(f'Correction**: {corr}')\n",
    "    return corr"
   ]
  },
  {
   "cell_type": "code",
   "execution_count": 190,
   "id": "065059c8",
   "metadata": {},
   "outputs": [],
   "source": [
    "def to_cnf_and(formula):\n",
    "    print(f\"correcting AND: {formula}\")\n",
    "    corr = BigAnd([])\n",
    "    for idx, el in enumerate(formula.subformulae):\n",
    "        if type(el).__name__ == 'BigOr':\n",
    "            cl = []\n",
    "            for subel in el.subformulae:\n",
    "                cl.append(BigAnd(formula.subformulae[:idx] + formula.subformulae[1+idx:] + el))\n",
    "            corr = BigOr([to_cnf(c) for c in cl])\n",
    "            break\n",
    "        \n",
    "        else:\n",
    "            corr.subformulae.append(el)\n",
    "    print(f'correction* AND: {corr}')\n",
    "    return to_cnf(corr)\n",
    "    "
   ]
  },
  {
   "cell_type": "code",
   "execution_count": 194,
   "id": "530fe362",
   "metadata": {},
   "outputs": [
    {
     "name": "stdout",
     "output_type": "stream",
     "text": [
      "correcting: ((P \\/ ((P /\\ Q) \\/ P)) \\/ False)\n",
      "BigOr\n",
      "correcting: (P \\/ ((P /\\ Q) \\/ P))\n",
      "BigOr\n",
      "correcting: ((P /\\ Q) \\/ P)\n",
      "BigOr\n",
      "correcting: (P \\/ P)\n",
      "BigOr\n",
      "Correction**: (P \\/ P)\n",
      "correcting: (P \\/ Q)\n",
      "BigOr\n",
      "Correction**: (P \\/ Q)\n",
      "correction* OR: ((P \\/ P) /\\ (P \\/ Q))\n",
      "Correction**: ((P \\/ P) /\\ (P \\/ Q))\n",
      "correction* OR: [BigOr(subformulae=[Symbol(label='P'), Symbol(label='P')]), BigOr(subformulae=[Symbol(label='P'), Symbol(label='Q')])]\n",
      "Correction**: [BigOr(subformulae=[Symbol(label='P'), Symbol(label='P')]), BigOr(subformulae=[Symbol(label='P'), Symbol(label='Q')])]\n",
      "correction* OR: [[BigOr(subformulae=[Symbol(label='P'), Symbol(label='P')]), BigOr(subformulae=[Symbol(label='P'), Symbol(label='Q')])]]\n",
      "Correction**: [[BigOr(subformulae=[Symbol(label='P'), Symbol(label='P')]), BigOr(subformulae=[Symbol(label='P'), Symbol(label='Q')])]]\n",
      "[[BigOr(subformulae=[Symbol(label='P'), Symbol(label='P')]), BigOr(subformulae=[Symbol(label='P'), Symbol(label='Q')])]]\n"
     ]
    }
   ],
   "source": [
    "print(to_cnf(big))"
   ]
  },
  {
   "cell_type": "code",
   "execution_count": null,
   "id": "683b19b3",
   "metadata": {},
   "outputs": [],
   "source": []
  },
  {
   "cell_type": "code",
   "execution_count": null,
   "id": "1a113002",
   "metadata": {},
   "outputs": [],
   "source": []
  }
 ],
 "metadata": {
  "kernelspec": {
   "display_name": "Python 3 (ipykernel)",
   "language": "python",
   "name": "python3"
  },
  "language_info": {
   "codemirror_mode": {
    "name": "ipython",
    "version": 3
   },
   "file_extension": ".py",
   "mimetype": "text/x-python",
   "name": "python",
   "nbconvert_exporter": "python",
   "pygments_lexer": "ipython3",
   "version": "3.11.6"
  }
 },
 "nbformat": 4,
 "nbformat_minor": 5
}
