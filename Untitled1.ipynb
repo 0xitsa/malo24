def big_maker(formula):
    if type(formula).__name__ == 'Neg':
        return big_maker(formula.subformula)
    if type(formula).__name__ == 'Or':
        return BigOr([big_maker(formula.first), big_maker(formula.second)])
    elif type(formula).__name__ == 'And':
        return BigAnd([big_maker(formula.first), big_maker(formula.second)])
    elif type(formula).__name__ == 'Symbol':
        return formula
    elif type(formula).__name__ == 'BigOr':
        return formula
    elif type(formula).__name__ == 'BigAnd':
        return formula
    elif type(formula).__name__ == 'bool' or type(formula).__name__ == 'Constant':
        return formula

big = big_maker(corr)

def to_cnf_or(formula):
    corr = BigOr([])
    for idx, el in enumerate(formula.subformulae):
        if type(el).__name__ == 'BigAnd':
            cl = []
            for subel in el.subformulae:
                cl.append(BigOr(formula.subformulae[:idx] + formula.subformulae[1+idx:] + [subel]))
            corr = BigAnd([to_cnf(c) for c in cl])
            break
        elif type(el).__name__ == "BigOr":
            sub = to_cnf(el)
            corr.subformulae.append(sub.subformulae)
    print(f'correction* OR: {corr}')
    return corr

def is_clause(formula):
    subs = formula.subformulae
    out = []
    for i in subs:
        if type(i).__name__ in ['And', 'BigAnd']:
            return False
        elif type(i).__name__ == 'BigOr':
            out.append(is_clause(i))
    for o in out:
        if o != True: return False
    return True

def is_cnf(formula):
    subs = formula.subformulae
    for i in subs:
        if type(i).__name__ == 'BigOr' and not is_clause(i): return False
        if type(i).__name__ in ['Or']: return False
    return True

def neg_checker(formula):
    print(f'neg checking: {formula}')
    if type(formula.subformula) == 'BigAnd':
        corr = BigOr([neg_checker(Neg(el)) for el in formula.subformula.subformulae])
    elif type(formula.subformula) == 'BigOr':
        corr = BigAnd([neg_checker(Neg(el)) for el in formula.subformula.subformulae])
    elif type(formula.subformula).__name__ == 'And':
        corr = Or(neg_checker(Neg(formula.subformula.first)), neg_checker(Neg(formula.subformula.second)))
    elif type(formula.subformula).__name__ == 'Or':
        corr = And(neg_checker(Neg(formula.subformula.first)), neg_checker(Neg(formula.subformula.second)))
    elif type(formula.subformula).__name__ == 'Neg':
        corr = formula.subformula.subformula
    else:
        corr = formula
    print(f'neg correction: {corr}')    
    return corr
    

def to_cnf(formula):
    corr = formula
    print(f"correcting: {formula}")
    formula = big_maker(formula)
    print(type(formula).__name__)
    if type(formula).__name__ == 'BigOr' and not is_clause(formula):
        corr = to_cnf_or(formula)
        if type(formula).__name__ == 'BigOr' and is_clause(formula):
            corr = BigAnd([neg_checker(Neg(sub)) for sub in formula.subformulae])
    elif type(formula).__name__ == 'BigAnd' and not is_cnf(formula):
        corr = to_cnf_and(formula)
    print(f'Correction**: {corr}')
    return corr

def to_cnf_and(formula):
    print(f"correcting AND: {formula}")
    corr = BigAnd([])
    for idx, el in enumerate(formula.subformulae):
        if type(el).__name__ == 'BigOr' and not is_clause(formula):
            cl = []
            for subel in el.subformulae:
                cl.append(BigAnd(formula.subformulae[:idx] + formula.subformulae[1+idx:] + el))
            corr = BigOr([to_cnf(c) for c in cl])
            break
        
        else:
            corr.subformulae.append(el)
    print(f'correction* AND: {corr}')
    return to_cnf(corr)
    

out =to_cnf(big.subformulae[0].subformulae[1])
