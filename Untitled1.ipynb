{
 "cells": [
  {
   "cell_type": "code",
   "execution_count": 1,
   "id": "8a9fbedc",
   "metadata": {},
   "outputs": [],
   "source": [
    "from assignment import *\n",
    "from propositional import *\n",
    "from util import *"
   ]
  },
  {
   "cell_type": "code",
   "execution_count": null,
   "id": "162cabb6",
   "metadata": {},
   "outputs": [],
   "source": []
  },
  {
   "cell_type": "code",
   "execution_count": 155,
   "id": "104750b7",
   "metadata": {},
   "outputs": [],
   "source": [
    "def to_cnf(formula):\n",
    "    corr = formula\n",
    "    print(f\"correcting: {formula}\")\n",
    "    formula = big_maker(formula)\n",
    "    print(f\"big: {formula}\")\n",
    "    if type(formula).__name__ == 'BigOr' and not is_clause(formula):\n",
    "        corr = to_cnf_or(formula)\n",
    "    elif type(corr).__name__ == 'BigOr' and is_clause(formula):\n",
    "        corr = BigAnd([neg_checker(Neg(sub)) for sub in formula.subformulae])\n",
    "    elif type(formula).__name__ == 'BigAnd' and not is_cnf(formula):\n",
    "        corr = to_cnf_and(formula)\n",
    "    print(f'Correction**: {corr}')\n",
    "    return corr"
   ]
  },
  {
   "cell_type": "code",
   "execution_count": 156,
   "id": "e42f790e",
   "metadata": {},
   "outputs": [],
   "source": [
    "def to_cnf_and(formula):\n",
    "    print(f\"correcting AND: {formula}\")\n",
    "    corr = BigAnd([])\n",
    "    for idx, el in enumerate(formula.subformulae):\n",
    "        if type(el).__name__ == 'BigOr' and not is_clause(formula):\n",
    "            cl = []\n",
    "            for subel in el.subformulae:\n",
    "                cl.append(BigAnd(formula.subformulae[:idx] + formula.subformulae[1+idx:] + el))\n",
    "            corr = BigOr([to_cnf(c) for c in cl])\n",
    "            break\n",
    "        \n",
    "        else:\n",
    "            corr.subformulae.append(el)\n",
    "    print(f'correction* AND: {corr}')\n",
    "    return to_cnf(corr)\n",
    "    "
   ]
  },
  {
   "cell_type": "code",
   "execution_count": 157,
   "id": "badc9874",
   "metadata": {},
   "outputs": [],
   "source": [
    "def to_cnf_or(formula):\n",
    "    corr = BigOr([])\n",
    "    for idx, el in enumerate(formula.subformulae):\n",
    "        if type(el).__name__ == 'BigAnd':\n",
    "            cl = []\n",
    "            for subel in el.subformulae:\n",
    "                cl.append(BigOr(formula.subformulae[:idx] + formula.subformulae[1+idx:] + [subel]))\n",
    "            corr = BigAnd([to_cnf(c) for c in cl])\n",
    "            break\n",
    "        elif type(el).__name__ == \"BigOr\":\n",
    "            sub = to_cnf(el)\n",
    "            corr.subformulae.append(sub.subformulae)\n",
    "    print(f'correction* OR: {corr}')\n",
    "    return corr"
   ]
  },
  {
   "cell_type": "code",
   "execution_count": 160,
   "id": "772dc83a",
   "metadata": {},
   "outputs": [
    {
     "name": "stdout",
     "output_type": "stream",
     "text": [
      "((P \\/ ((~P /\\ ~Q) \\/ P)) \\/ False)\n"
     ]
    }
   ],
   "source": [
    "corr = to_nnf(form)\n",
    "print(corr)"
   ]
  },
  {
   "cell_type": "code",
   "execution_count": 161,
   "id": "9fd050dd",
   "metadata": {},
   "outputs": [
    {
     "data": {
      "text/plain": [
       "Or(first=Or(first=Symbol(label='P'), second=Or(first=And(first=Neg(subformula=Symbol(label='P'), label='~'), second=Neg(subformula=Symbol(label='Q'), label='~')), second=Symbol(label='P'))), second=False)"
      ]
     },
     "execution_count": 161,
     "metadata": {},
     "output_type": "execute_result"
    }
   ],
   "source": [
    "corr"
   ]
  },
  {
   "cell_type": "code",
   "execution_count": 162,
   "id": "50b9a6d2",
   "metadata": {},
   "outputs": [
    {
     "name": "stdout",
     "output_type": "stream",
     "text": [
      "((P \\/ ((P /\\ Q) \\/ P)) \\/ False)\n"
     ]
    }
   ],
   "source": [
    "big = big_maker(corr)\n",
    "print(big)"
   ]
  },
  {
   "cell_type": "code",
   "execution_count": 164,
   "id": "0f3b3c83",
   "metadata": {},
   "outputs": [
    {
     "data": {
      "text/plain": [
       "propositional.BigOr"
      ]
     },
     "execution_count": 164,
     "metadata": {},
     "output_type": "execute_result"
    }
   ],
   "source": [
    "type(big)"
   ]
  },
  {
   "cell_type": "code",
   "execution_count": 165,
   "id": "faaea5a1",
   "metadata": {},
   "outputs": [
    {
     "data": {
      "text/plain": [
       "BigOr(subformulae=[Symbol(label='P'), BigOr(subformulae=[BigAnd(subformulae=[Symbol(label='P'), Symbol(label='Q')]), Symbol(label='P')])])"
      ]
     },
     "execution_count": 165,
     "metadata": {},
     "output_type": "execute_result"
    }
   ],
   "source": [
    "big.subformulae[0]"
   ]
  },
  {
   "cell_type": "code",
   "execution_count": null,
   "id": "7f1469d5",
   "metadata": {},
   "outputs": [],
   "source": []
  },
  {
   "cell_type": "code",
   "execution_count": 166,
   "id": "5936767a",
   "metadata": {},
   "outputs": [
    {
     "name": "stdout",
     "output_type": "stream",
     "text": [
      "correcting: (~A /\\ ~B)\n",
      "nothing to do (~A /\\ ~B)\n",
      "Original Formula: (~A /\\ ~B)\n",
      "Formula after applying De Morgan's law: (~A /\\ ~B)\n"
     ]
    }
   ],
   "source": [
    "def apply_demorgan(formula: Formula) -> Formula:\n",
    "    print(f'correcting: {formula}')\n",
    "    if type(formula).__name__ == 'Neg':\n",
    "        corr = apply_demorgan(neg_checker(formula))\n",
    "        if type(corr.subformula).__name__ == 'Symbol':\n",
    "            return corr\n",
    "    elif type(formula).__name__ == 'BigOr':\n",
    "        return BigOr(subformulae=[apply_demorgan(subformula) for subformula in formula.subformulae])\n",
    "    elif type(formula).__name__ == 'BigAnd':\n",
    "        return BigAnd(subformulae=[apply_demorgan(subformula) for subformula in formula.subformulae])\n",
    "    else:\n",
    "        print(f'nothing to do {formula}')\n",
    "        return formula\n",
    "\n",
    "# Example usage:\n",
    "formula = Formula.parse(\"(~A /\\\\ ~B)\")\n",
    "demorgan_formula = apply_demorgan(formula)\n",
    "print(\"Original Formula:\", formula)\n",
    "print(\"Formula after applying De Morgan's law:\", demorgan_formula)\n"
   ]
  },
  {
   "cell_type": "code",
   "execution_count": 168,
   "id": "54ff4283",
   "metadata": {},
   "outputs": [
    {
     "data": {
      "text/plain": [
       "BigOr(subformulae=[Symbol(label='P'), BigOr(subformulae=[BigAnd(subformulae=[Symbol(label='P'), Symbol(label='Q')]), Symbol(label='P')])])"
      ]
     },
     "execution_count": 168,
     "metadata": {},
     "output_type": "execute_result"
    }
   ],
   "source": [
    "big.subformulae[0]"
   ]
  },
  {
   "cell_type": "code",
   "execution_count": 169,
   "id": "66399f1d",
   "metadata": {},
   "outputs": [
    {
     "data": {
      "text/plain": [
       "BigOr(subformulae=[BigAnd(subformulae=[Symbol(label='P'), Symbol(label='Q')]), Symbol(label='P')])"
      ]
     },
     "execution_count": 169,
     "metadata": {},
     "output_type": "execute_result"
    }
   ],
   "source": [
    "big.subformulae[0].subformulae[1]"
   ]
  },
  {
   "cell_type": "code",
   "execution_count": 170,
   "id": "3d37f5f5",
   "metadata": {},
   "outputs": [
    {
     "name": "stdout",
     "output_type": "stream",
     "text": [
      "((P /\\ Q) \\/ P)\n"
     ]
    }
   ],
   "source": [
    "print(big.subformulae[0].subformulae[1])"
   ]
  },
  {
   "cell_type": "code",
   "execution_count": 197,
   "id": "61bf2284",
   "metadata": {},
   "outputs": [
    {
     "name": "stdout",
     "output_type": "stream",
     "text": [
      "correcting (([Symbol(label='P'), Symbol(label='P')] /\\ [Symbol(label='P'), Symbol(label='Q')]) \\/ False)\n",
      "correction: True == ([False, BigOr(subformulae=[[Symbol(label='P'), Symbol(label='P')]])] /\\ [False, BigOr(subformulae=[[Symbol(label='P'), Symbol(label='Q')]])])\n",
      "correcting ([False, BigOr(subformulae=[[Symbol(label='P'), Symbol(label='P')]])] /\\ [False, BigOr(subformulae=[[Symbol(label='P'), Symbol(label='Q')]])])\n",
      "([False, BigOr(subformulae=[[Symbol(label='P'), Symbol(label='P')]])] /\\ [False, BigOr(subformulae=[[Symbol(label='P'), Symbol(label='Q')]])])\n"
     ]
    }
   ],
   "source": [
    "out = _or(big)\n",
    "print(out)"
   ]
  },
  {
   "cell_type": "code",
   "execution_count": 191,
   "id": "bf6ca609",
   "metadata": {},
   "outputs": [
    {
     "name": "stdout",
     "output_type": "stream",
     "text": [
      "((P \\/ ((P /\\ Q) \\/ P)) \\/ False)\n"
     ]
    }
   ],
   "source": [
    "print(big)"
   ]
  },
  {
   "cell_type": "code",
   "execution_count": 102,
   "id": "67139500",
   "metadata": {},
   "outputs": [
    {
     "name": "stdout",
     "output_type": "stream",
     "text": [
      "((P /\\ Q) \\/ P)\n"
     ]
    }
   ],
   "source": [
    "print(big.subformulae[0].subformulae[1])"
   ]
  },
  {
   "cell_type": "code",
   "execution_count": 341,
   "id": "58783963",
   "metadata": {},
   "outputs": [],
   "source": [
    "def to_nnf_neg(formula):\n",
    "    formula = neg_checker(formula)\n",
    "    if type(formula).__name__ != 'Neg': return to_nnf(formula)\n",
    "    sub = formula.subformula\n",
    "    if type(sub).__name__ == 'Or':\n",
    "        corr = And(neg_checker(Neg(sub.first)), neg_checker(Neg(sub.second)))\n",
    "    elif type(sub).__name__ == 'And':\n",
    "        corr = Or(neg_checker(Neg(sub.first)), neg_checker(Neg(sub.second)))\n",
    "    elif type(sub).__name__ == 'Impl':\n",
    "        corr = to_nnf_neg(neg_checker(Neg(to_nnf_impl(sub))))\n",
    "    elif type(sub).__name__ == 'Neg':\n",
    "        corr = neg_checker(formula)\n",
    "    elif type(sub).__name__ in ['Symbol', 'Constant', 'bool']:\n",
    "        corr = neg_checker(formula)\n",
    "        return corr\n",
    "    elif type(sub).__name__ == 'BigOr':\n",
    "        corrs = [to_nnf(neg_checker(Neg(subi))) for subi in sub.subformulae]\n",
    "        corr = BigAnd(corrs)\n",
    "    elif type(sub).__name__ == 'BigAnd':\n",
    "        corrs = [to_nnf(neg_checker(Neg(subi))) for subi in sub.subformulae]\n",
    "        corr = BigOr(corrs)\n",
    "    return to_nnf(corr)"
   ]
  },
  {
   "cell_type": "code",
   "execution_count": 342,
   "id": "2199d094",
   "metadata": {},
   "outputs": [],
   "source": [
    "def to_nnf_impl(formula):\n",
    "    corr = Or(to_nnf_neg(Neg(formula.first)), to_nnf(formula.second))\n",
    "    return to_nnf(corr)"
   ]
  },
  {
   "cell_type": "code",
   "execution_count": 343,
   "id": "e2dc7d0b",
   "metadata": {},
   "outputs": [],
   "source": [
    "def to_nnf(formula):\n",
    "    #print('correcting :', formula)\n",
    "    if type(formula).__name__ == 'Neg':\n",
    "        corr = to_nnf_neg(formula)\n",
    "    if type(formula).__name__ == 'Or':\n",
    "        corr = Or(to_nnf(formula.first), to_nnf(formula.second))\n",
    "    elif type(formula).__name__ == 'And':\n",
    "        corr = And(to_nnf(formula.first), to_nnf(formula.second))\n",
    "    elif type(formula).__name__ == 'Impl':\n",
    "        corr = to_nnf_impl(formula)\n",
    "    elif type(formula).__name__ == 'Symbol':\n",
    "        corr = formula\n",
    "    elif type(formula).__name__ == 'BigOr':\n",
    "        corrs = [to_nnf(sub) for sub in formula.subformulae]\n",
    "        corr = BigOr(corrs)\n",
    "    elif type(formula).__name__ == 'BigAnd':\n",
    "        corrs = [to_nnf(sub) for sub in formula.subformulae]\n",
    "        corr = BigAnd(corrs)\n",
    "    elif type(formula).__name__ == 'bool' or type(formula).__name__ == 'Constant':\n",
    "        corr = formula\n",
    "    #print(formula, type(formula))\n",
    "    #print('correctiON :', corr)\n",
    "    return corr"
   ]
  },
  {
   "cell_type": "code",
   "execution_count": null,
   "id": "05f6170d",
   "metadata": {},
   "outputs": [],
   "source": []
  },
  {
   "cell_type": "code",
   "execution_count": 353,
   "id": "03b991a9",
   "metadata": {},
   "outputs": [],
   "source": [
    "def big_maker(formula):  \n",
    "    if type(formula).__name__ == 'Neg':\n",
    "        if type(formula.subformula).__name__ not in ['Symbol', 'Constant', 'bool']: return big_maker(neg_checker(formula))\n",
    "        return formula\n",
    "    elif type(formula).__name__ == 'Or':\n",
    "        return BigOr([big_maker(formula.first), big_maker(formula.second)])\n",
    "    elif type(formula).__name__ == 'And':\n",
    "        return BigAnd([big_maker(formula.first), big_maker(formula.second)])\n",
    "    elif type(formula).__name__ == 'Symbol':\n",
    "        return formula\n",
    "    elif type(formula).__name__ == 'BigOr':\n",
    "        return BigOr([big_maker(sub) for sub in formula.subformulae])\n",
    "    elif type(formula).__name__ == 'BigAnd':\n",
    "        return BigAnd([big_maker(sub) for sub in formula.subformulae])\n",
    "    elif type(formula).__name__ == 'bool' or type(formula).__name__ == 'Constant':\n",
    "        return formula"
   ]
  },
  {
   "cell_type": "code",
   "execution_count": 364,
   "id": "e17f87df",
   "metadata": {},
   "outputs": [
    {
     "data": {
      "text/plain": [
       "\"odict = {'transform':{}}\\no1 = to_nnf(f1)\\nodict['transform']['o1'] = transform(o1)\\no2 = to_nnf(f2)\\nodict['transform']['o2'] = transform(o2)\\no3 = to_nnf(f3)\\nodict['transform']['o3'] = transform(o3)\\no4 = to_nnf(f4)\\nodict['transform']['o4'] = transform(o4)\\no5 = to_nnf(f5)\\nodict['transform']['o5'] = transform(o5)\\no6 = to_nnf(f6)\\nodict['transform']['o6'] = transform(o6)\\no7 = to_nnf(f7)\\nodict['transform']['o7'] = transform(o7)\\no8 = to_nnf(f8)\\nodict['transform']['o8'] = transform(o8)\\no9 = to_nnf(f9)\\nodict['transform']['o9'] = transform(o9)\""
      ]
     },
     "execution_count": 364,
     "metadata": {},
     "output_type": "execute_result"
    }
   ],
   "source": [
    "str = \"\"\"odict = {'bigmaker':{}}\n",
    "o1 = to_nnf(f1)\n",
    "odict['bigmaker']['o1'] = big_maker(o1)\n",
    "o2 = to_nnf(f2)\n",
    "odict['bigmaker']['o2'] = big_maker(o2)\n",
    "o3 = to_nnf(f3)\n",
    "odict['bigmaker']['o3'] = big_maker(o3)\n",
    "o4 = to_nnf(f4)\n",
    "odict['bigmaker']['o4'] = big_maker(o4)\n",
    "o5 = to_nnf(f5)\n",
    "odict['bigmaker']['o5'] = big_maker(o5)\n",
    "o6 = to_nnf(f6)\n",
    "odict['bigmaker']['o6'] = big_maker(o6)\n",
    "o7 = to_nnf(f7)\n",
    "odict['bigmaker']['o7'] = big_maker(o7)\n",
    "o8 = to_nnf(f8)\n",
    "odict['bigmaker']['o8'] = big_maker(o8)\n",
    "o9 = to_nnf(f9)\n",
    "odict['bigmaker']['o9'] = big_maker(o9)\"\"\"\n",
    "str.replace('bigmaker', 'transform').replace('big_maker', 'transform')"
   ]
  },
  {
   "cell_type": "code",
   "execution_count": 365,
   "id": "a1bf4dfc",
   "metadata": {},
   "outputs": [
    {
     "name": "stdout",
     "output_type": "stream",
     "text": [
      "transforming ((~P /\\ ((P \\/ Q) /\\ ~P)) /\\ ~False)\n",
      "nnf ((~P /\\ ((P \\/ Q) /\\ ~P)) /\\ ~False)\n",
      "big ((~P /\\ ((P \\/ Q) /\\ ~P)) /\\ ~False)\n",
      "correcting ((P \\/ ((~P /\\ ~Q) \\/ P)) \\/ False)\n",
      "append to bigor? (P \\/ ((~P /\\ ~Q) \\/ P))\n",
      "correcting ((~P /\\ ~Q) \\/ P)\n",
      "correction: True == ([Symbol(label='P'), Neg(subformula=Symbol(label='P'), label='~')] /\\ [Symbol(label='P'), Neg(subformula=Symbol(label='Q'), label='~')])\n",
      "correcting ([Symbol(label='P'), Neg(subformula=Symbol(label='P'), label='~')] /\\ [Symbol(label='P'), Neg(subformula=Symbol(label='Q'), label='~')])\n",
      "correction** ([Symbol(label='P'), Neg(subformula=Symbol(label='P'), label='~')] /\\ [Symbol(label='P'), Neg(subformula=Symbol(label='Q'), label='~')])\n",
      "correcting (([Symbol(label='P'), Neg(subformula=Symbol(label='P'), label='~')] /\\ [Symbol(label='P'), Neg(subformula=Symbol(label='Q'), label='~')]) \\/ False)\n",
      "correction: True == ([False, BigOr(subformulae=[[Symbol(label='P'), Neg(subformula=Symbol(label='P'), label='~')]])] /\\ [False, BigOr(subformulae=[[Symbol(label='P'), Neg(subformula=Symbol(label='Q'), label='~')]])])\n",
      "correcting ([False, BigOr(subformulae=[[Symbol(label='P'), Neg(subformula=Symbol(label='P'), label='~')]])] /\\ [False, BigOr(subformulae=[[Symbol(label='P'), Neg(subformula=Symbol(label='Q'), label='~')]])])\n",
      "transforming ((A /\\ (~House \\/ True)) \\/ (((~O \\/ R) \\/ True) /\\ (Q /\\ False)))\n",
      "nnf ((A /\\ (~House \\/ True)) \\/ (((~O \\/ R) \\/ True) /\\ (Q /\\ False)))\n",
      "big ((A /\\ (~House \\/ True)) \\/ (((~O \\/ R) \\/ True) /\\ (Q /\\ False)))\n",
      "correcting ((A /\\ (~House \\/ True)) \\/ (((~O \\/ R) \\/ True) /\\ (Q /\\ False)))\n",
      "correction: True == ([BigAnd(subformulae=[BigOr(subformulae=[BigOr(subformulae=[Neg(subformula=Symbol(label='O'), label='~'), Constant(label='R')]), True]), BigAnd(subformulae=[Symbol(label='Q'), False])]), Symbol(label='A')] /\\ [BigAnd(subformulae=[BigOr(subformulae=[BigOr(subformulae=[Neg(subformula=Symbol(label='O'), label='~'), Constant(label='R')]), True]), BigAnd(subformulae=[Symbol(label='Q'), False])]), BigOr(subformulae=[Neg(subformula=Constant(label='House'), label='~'), True])])\n",
      "correcting ([BigAnd(subformulae=[BigOr(subformulae=[BigOr(subformulae=[Neg(subformula=Symbol(label='O'), label='~'), Constant(label='R')]), True]), BigAnd(subformulae=[Symbol(label='Q'), False])]), Symbol(label='A')] /\\ [BigAnd(subformulae=[BigOr(subformulae=[BigOr(subformulae=[Neg(subformula=Symbol(label='O'), label='~'), Constant(label='R')]), True]), BigAnd(subformulae=[Symbol(label='Q'), False])]), BigOr(subformulae=[Neg(subformula=Constant(label='House'), label='~'), True])])\n",
      "transforming ((P \\/ Q) /\\ (~Q \\/ P))\n",
      "nnf ((P \\/ Q) /\\ (~Q \\/ P))\n",
      "big ((P \\/ Q) /\\ (~Q \\/ P))\n",
      "transforming ((~P /\\ ((P \\/ Q) /\\ ~P)) /\\ ~False)\n",
      "nnf ((~P /\\ ((P \\/ Q) /\\ ~P)) /\\ ~False)\n",
      "big ((~P /\\ ((P \\/ Q) /\\ ~P)) /\\ ~False)\n",
      "correcting ((P \\/ ((~P /\\ ~Q) \\/ P)) \\/ False)\n",
      "append to bigor? (P \\/ ((~P /\\ ~Q) \\/ P))\n",
      "correcting ((~P /\\ ~Q) \\/ P)\n",
      "correction: True == ([Symbol(label='P'), Neg(subformula=Symbol(label='P'), label='~')] /\\ [Symbol(label='P'), Neg(subformula=Symbol(label='Q'), label='~')])\n",
      "correcting ([Symbol(label='P'), Neg(subformula=Symbol(label='P'), label='~')] /\\ [Symbol(label='P'), Neg(subformula=Symbol(label='Q'), label='~')])\n",
      "correction** ([Symbol(label='P'), Neg(subformula=Symbol(label='P'), label='~')] /\\ [Symbol(label='P'), Neg(subformula=Symbol(label='Q'), label='~')])\n",
      "correcting (([Symbol(label='P'), Neg(subformula=Symbol(label='P'), label='~')] /\\ [Symbol(label='P'), Neg(subformula=Symbol(label='Q'), label='~')]) \\/ False)\n",
      "correction: True == ([False, BigOr(subformulae=[[Symbol(label='P'), Neg(subformula=Symbol(label='P'), label='~')]])] /\\ [False, BigOr(subformulae=[[Symbol(label='P'), Neg(subformula=Symbol(label='Q'), label='~')]])])\n",
      "correcting ([False, BigOr(subformulae=[[Symbol(label='P'), Neg(subformula=Symbol(label='P'), label='~')]])] /\\ [False, BigOr(subformulae=[[Symbol(label='P'), Neg(subformula=Symbol(label='Q'), label='~')]])])\n",
      "transforming ((A /\\ (~House \\/ True)) \\/ (((~O \\/ R) \\/ True) /\\ (Q /\\ False)))\n",
      "nnf ((A /\\ (~House \\/ True)) \\/ (((~O \\/ R) \\/ True) /\\ (Q /\\ False)))\n",
      "big ((A /\\ (~House \\/ True)) \\/ (((~O \\/ R) \\/ True) /\\ (Q /\\ False)))\n",
      "correcting ((A /\\ (~House \\/ True)) \\/ (((~O \\/ R) \\/ True) /\\ (Q /\\ False)))\n",
      "correction: True == ([BigAnd(subformulae=[BigOr(subformulae=[BigOr(subformulae=[Neg(subformula=Symbol(label='O'), label='~'), Constant(label='R')]), True]), BigAnd(subformulae=[Symbol(label='Q'), False])]), Symbol(label='A')] /\\ [BigAnd(subformulae=[BigOr(subformulae=[BigOr(subformulae=[Neg(subformula=Symbol(label='O'), label='~'), Constant(label='R')]), True]), BigAnd(subformulae=[Symbol(label='Q'), False])]), BigOr(subformulae=[Neg(subformula=Constant(label='House'), label='~'), True])])\n",
      "correcting ([BigAnd(subformulae=[BigOr(subformulae=[BigOr(subformulae=[Neg(subformula=Symbol(label='O'), label='~'), Constant(label='R')]), True]), BigAnd(subformulae=[Symbol(label='Q'), False])]), Symbol(label='A')] /\\ [BigAnd(subformulae=[BigOr(subformulae=[BigOr(subformulae=[Neg(subformula=Symbol(label='O'), label='~'), Constant(label='R')]), True]), BigAnd(subformulae=[Symbol(label='Q'), False])]), BigOr(subformulae=[Neg(subformula=Constant(label='House'), label='~'), True])])\n",
      "transforming ((X /\\ (Y /\\ ~Z)) \\/ (((~P \\/ Q) \\/ True) /\\ (R /\\ False)))\n",
      "nnf ((X /\\ (Y /\\ ~Z)) \\/ (((~P \\/ Q) \\/ True) /\\ (R /\\ False)))\n",
      "big ((X /\\ (Y /\\ ~Z)) \\/ (((~P \\/ Q) \\/ True) /\\ (R /\\ False)))\n",
      "correcting ((X /\\ (Y /\\ ~Z)) \\/ (((~P \\/ Q) \\/ True) /\\ (R /\\ False)))\n",
      "correction: True == ([BigAnd(subformulae=[BigOr(subformulae=[BigOr(subformulae=[Neg(subformula=Symbol(label='P'), label='~'), Constant(label='Q')]), True]), BigAnd(subformulae=[Symbol(label='R'), False])]), Symbol(label='X')] /\\ [BigAnd(subformulae=[BigOr(subformulae=[BigOr(subformulae=[Neg(subformula=Symbol(label='P'), label='~'), Constant(label='Q')]), True]), BigAnd(subformulae=[Symbol(label='R'), False])]), BigAnd(subformulae=[Symbol(label='Y'), Neg(subformula=Constant(label='Z'), label='~')])])\n",
      "correcting ([BigAnd(subformulae=[BigOr(subformulae=[BigOr(subformulae=[Neg(subformula=Symbol(label='P'), label='~'), Constant(label='Q')]), True]), BigAnd(subformulae=[Symbol(label='R'), False])]), Symbol(label='X')] /\\ [BigAnd(subformulae=[BigOr(subformulae=[BigOr(subformulae=[Neg(subformula=Symbol(label='P'), label='~'), Constant(label='Q')]), True]), BigAnd(subformulae=[Symbol(label='R'), False])]), BigAnd(subformulae=[Symbol(label='Y'), Neg(subformula=Constant(label='Z'), label='~')])])\n",
      "transforming ((~X /\\ ((X \\/ Y) /\\ ~X)) /\\ ~False)\n",
      "nnf ((~X /\\ ((X \\/ Y) /\\ ~X)) /\\ ~False)\n",
      "big ((~X /\\ ((X \\/ Y) /\\ ~X)) /\\ ~False)\n",
      "correcting ((X \\/ ((~X /\\ ~Y) \\/ X)) \\/ False)\n",
      "append to bigor? (X \\/ ((~X /\\ ~Y) \\/ X))\n",
      "correcting ((~X /\\ ~Y) \\/ X)\n",
      "correction: True == ([Symbol(label='X'), Neg(subformula=Symbol(label='X'), label='~')] /\\ [Symbol(label='X'), Neg(subformula=Symbol(label='Y'), label='~')])\n",
      "correcting ([Symbol(label='X'), Neg(subformula=Symbol(label='X'), label='~')] /\\ [Symbol(label='X'), Neg(subformula=Symbol(label='Y'), label='~')])\n",
      "correction** ([Symbol(label='X'), Neg(subformula=Symbol(label='X'), label='~')] /\\ [Symbol(label='X'), Neg(subformula=Symbol(label='Y'), label='~')])\n",
      "correcting (([Symbol(label='X'), Neg(subformula=Symbol(label='X'), label='~')] /\\ [Symbol(label='X'), Neg(subformula=Symbol(label='Y'), label='~')]) \\/ False)\n",
      "correction: True == ([False, BigOr(subformulae=[[Symbol(label='X'), Neg(subformula=Symbol(label='X'), label='~')]])] /\\ [False, BigOr(subformulae=[[Symbol(label='X'), Neg(subformula=Symbol(label='Y'), label='~')]])])\n",
      "correcting ([False, BigOr(subformulae=[[Symbol(label='X'), Neg(subformula=Symbol(label='X'), label='~')]])] /\\ [False, BigOr(subformulae=[[Symbol(label='X'), Neg(subformula=Symbol(label='Y'), label='~')]])])\n",
      "transforming ((P /\\ (~R \\/ S)) \\/ (((~M \\/ N) \\/ True) /\\ (Q /\\ False)))\n",
      "nnf ((P /\\ (~R \\/ S)) \\/ (((~M \\/ N) \\/ True) /\\ (Q /\\ False)))\n",
      "big ((P /\\ (~R \\/ S)) \\/ (((~M \\/ N) \\/ True) /\\ (Q /\\ False)))\n",
      "correcting ((P /\\ (~R \\/ S)) \\/ (((~M \\/ N) \\/ True) /\\ (Q /\\ False)))\n",
      "correction: True == ([BigAnd(subformulae=[BigOr(subformulae=[BigOr(subformulae=[Neg(subformula=Symbol(label='M'), label='~'), Constant(label='N')]), True]), BigAnd(subformulae=[Symbol(label='Q'), False])]), Symbol(label='P')] /\\ [BigAnd(subformulae=[BigOr(subformulae=[BigOr(subformulae=[Neg(subformula=Symbol(label='M'), label='~'), Constant(label='N')]), True]), BigAnd(subformulae=[Symbol(label='Q'), False])]), BigOr(subformulae=[Neg(subformula=Constant(label='R'), label='~'), Symbol(label='S')])])\n",
      "correcting ([BigAnd(subformulae=[BigOr(subformulae=[BigOr(subformulae=[Neg(subformula=Symbol(label='M'), label='~'), Constant(label='N')]), True]), BigAnd(subformulae=[Symbol(label='Q'), False])]), Symbol(label='P')] /\\ [BigAnd(subformulae=[BigOr(subformulae=[BigOr(subformulae=[Neg(subformula=Symbol(label='M'), label='~'), Constant(label='N')]), True]), BigAnd(subformulae=[Symbol(label='Q'), False])]), BigOr(subformulae=[Neg(subformula=Constant(label='R'), label='~'), Symbol(label='S')])])\n",
      "transforming ((A /\\ (B /\\ ~C)) \\/ (((~P \\/ Q) \\/ True) /\\ (R /\\ False)))\n",
      "nnf ((A /\\ (B /\\ ~C)) \\/ (((~P \\/ Q) \\/ True) /\\ (R /\\ False)))\n",
      "big ((A /\\ (B /\\ ~C)) \\/ (((~P \\/ Q) \\/ True) /\\ (R /\\ False)))\n",
      "correcting ((A /\\ (B /\\ ~C)) \\/ (((~P \\/ Q) \\/ True) /\\ (R /\\ False)))\n",
      "correction: True == ([BigAnd(subformulae=[BigOr(subformulae=[BigOr(subformulae=[Neg(subformula=Symbol(label='P'), label='~'), Constant(label='Q')]), True]), BigAnd(subformulae=[Symbol(label='R'), False])]), Symbol(label='A')] /\\ [BigAnd(subformulae=[BigOr(subformulae=[BigOr(subformulae=[Neg(subformula=Symbol(label='P'), label='~'), Constant(label='Q')]), True]), BigAnd(subformulae=[Symbol(label='R'), False])]), BigAnd(subformulae=[Constant(label='B'), Neg(subformula=Symbol(label='C'), label='~')])])\n",
      "correcting ([BigAnd(subformulae=[BigOr(subformulae=[BigOr(subformulae=[Neg(subformula=Symbol(label='P'), label='~'), Constant(label='Q')]), True]), BigAnd(subformulae=[Symbol(label='R'), False])]), Symbol(label='A')] /\\ [BigAnd(subformulae=[BigOr(subformulae=[BigOr(subformulae=[Neg(subformula=Symbol(label='P'), label='~'), Constant(label='Q')]), True]), BigAnd(subformulae=[Symbol(label='R'), False])]), BigAnd(subformulae=[Constant(label='B'), Neg(subformula=Symbol(label='C'), label='~')])])\n"
     ]
    }
   ],
   "source": [
    "odict = {'transform':{}}\n",
    "o1 = to_nnf(f1)\n",
    "odict['transform']['o1'] = transform(o1)\n",
    "o2 = to_nnf(f2)\n",
    "odict['transform']['o2'] = transform(o2)\n",
    "o3 = to_nnf(f3)\n",
    "odict['transform']['o3'] = transform(o3)\n",
    "o4 = to_nnf(f4)\n",
    "odict['transform']['o4'] = transform(o4)\n",
    "o5 = to_nnf(f5)\n",
    "odict['transform']['o5'] = transform(o5)\n",
    "o6 = to_nnf(f6)\n",
    "odict['transform']['o6'] = transform(o6)\n",
    "o7 = to_nnf(f7)\n",
    "odict['transform']['o7'] = transform(o7)\n",
    "o8 = to_nnf(f8)\n",
    "odict['transform']['o8'] = transform(o8)\n",
    "o9 = to_nnf(f9)\n",
    "odict['transform']['o9'] = transform(o9)"
   ]
  },
  {
   "cell_type": "code",
   "execution_count": 371,
   "id": "23593967",
   "metadata": {},
   "outputs": [
    {
     "name": "stdout",
     "output_type": "stream",
     "text": [
      "((~P /\\ ((P \\/ Q) /\\ ~P)) /\\ ~False) zimzalabim (BigAnd(subformulae=[BigOr(subformulae=[[False, BigOr(subformulae=[[Symbol(label='P'), Neg(subformula=Symbol(label='P'), label='~')]])]]), BigOr(subformulae=[[False, BigOr(subformulae=[[Symbol(label='P'), Neg(subformula=Symbol(label='Q'), label='~')]])]])]), True, False)\n",
      "#### #### #### #### #### #### #### #### #### \n",
      "((A /\\ (~House \\/ True)) \\/ (((~O \\/ R) \\/ True) /\\ (Q /\\ False))) zimzalabim (BigAnd(subformulae=[BigOr(subformulae=[[BigAnd(subformulae=[BigOr(subformulae=[BigOr(subformulae=[Neg(subformula=Symbol(label='O'), label='~'), Constant(label='R')]), True]), BigAnd(subformulae=[Symbol(label='Q'), False])]), Symbol(label='A')]]), BigOr(subformulae=[[BigAnd(subformulae=[BigOr(subformulae=[BigOr(subformulae=[Neg(subformula=Symbol(label='O'), label='~'), Constant(label='R')]), True]), BigAnd(subformulae=[Symbol(label='Q'), False])]), BigOr(subformulae=[Neg(subformula=Constant(label='House'), label='~'), True])]])]), True, False)\n",
      "#### #### #### #### #### #### #### #### #### \n",
      "((P \\/ Q) /\\ (~Q \\/ P)) zimzalabim (BigOr(subformulae=[BigAnd(subformulae=[Neg(subformula=Symbol(label='P'), label='~'), Neg(subformula=Symbol(label='Q'), label='~')]), BigAnd(subformulae=[Symbol(label='Q'), Neg(subformula=Symbol(label='P'), label='~')])]), False, True)\n",
      "#### #### #### #### #### #### #### #### #### \n",
      "((~P /\\ ((P \\/ Q) /\\ ~P)) /\\ ~False) zimzalabim (BigAnd(subformulae=[BigOr(subformulae=[[False, BigOr(subformulae=[[Symbol(label='P'), Neg(subformula=Symbol(label='P'), label='~')]])]]), BigOr(subformulae=[[False, BigOr(subformulae=[[Symbol(label='P'), Neg(subformula=Symbol(label='Q'), label='~')]])]])]), True, False)\n",
      "#### #### #### #### #### #### #### #### #### \n",
      "((A /\\ (~House \\/ True)) \\/ (((~O \\/ R) \\/ True) /\\ (Q /\\ False))) zimzalabim (BigAnd(subformulae=[BigOr(subformulae=[[BigAnd(subformulae=[BigOr(subformulae=[BigOr(subformulae=[Neg(subformula=Symbol(label='O'), label='~'), Constant(label='R')]), True]), BigAnd(subformulae=[Symbol(label='Q'), False])]), Symbol(label='A')]]), BigOr(subformulae=[[BigAnd(subformulae=[BigOr(subformulae=[BigOr(subformulae=[Neg(subformula=Symbol(label='O'), label='~'), Constant(label='R')]), True]), BigAnd(subformulae=[Symbol(label='Q'), False])]), BigOr(subformulae=[Neg(subformula=Constant(label='House'), label='~'), True])]])]), True, False)\n",
      "#### #### #### #### #### #### #### #### #### \n",
      "((X /\\ (Y /\\ ~Z)) \\/ (((~P \\/ Q) \\/ True) /\\ (R /\\ False))) zimzalabim (BigAnd(subformulae=[BigOr(subformulae=[[BigAnd(subformulae=[BigOr(subformulae=[BigOr(subformulae=[Neg(subformula=Symbol(label='P'), label='~'), Constant(label='Q')]), True]), BigAnd(subformulae=[Symbol(label='R'), False])]), Symbol(label='X')]]), BigOr(subformulae=[[BigAnd(subformulae=[BigOr(subformulae=[BigOr(subformulae=[Neg(subformula=Symbol(label='P'), label='~'), Constant(label='Q')]), True]), BigAnd(subformulae=[Symbol(label='R'), False])]), BigAnd(subformulae=[Symbol(label='Y'), Neg(subformula=Constant(label='Z'), label='~')])]])]), True, False)\n",
      "#### #### #### #### #### #### #### #### #### \n",
      "((~X /\\ ((X \\/ Y) /\\ ~X)) /\\ ~False) zimzalabim (BigAnd(subformulae=[BigOr(subformulae=[[False, BigOr(subformulae=[[Symbol(label='X'), Neg(subformula=Symbol(label='X'), label='~')]])]]), BigOr(subformulae=[[False, BigOr(subformulae=[[Symbol(label='X'), Neg(subformula=Symbol(label='Y'), label='~')]])]])]), True, False)\n",
      "#### #### #### #### #### #### #### #### #### \n",
      "((P /\\ (~R \\/ S)) \\/ (((~M \\/ N) \\/ True) /\\ (Q /\\ False))) zimzalabim (BigAnd(subformulae=[BigOr(subformulae=[[BigAnd(subformulae=[BigOr(subformulae=[BigOr(subformulae=[Neg(subformula=Symbol(label='M'), label='~'), Constant(label='N')]), True]), BigAnd(subformulae=[Symbol(label='Q'), False])]), Symbol(label='P')]]), BigOr(subformulae=[[BigAnd(subformulae=[BigOr(subformulae=[BigOr(subformulae=[Neg(subformula=Symbol(label='M'), label='~'), Constant(label='N')]), True]), BigAnd(subformulae=[Symbol(label='Q'), False])]), BigOr(subformulae=[Neg(subformula=Constant(label='R'), label='~'), Symbol(label='S')])]])]), True, False)\n",
      "#### #### #### #### #### #### #### #### #### \n",
      "((A /\\ (B /\\ ~C)) \\/ (((~P \\/ Q) \\/ True) /\\ (R /\\ False))) zimzalabim (BigAnd(subformulae=[BigOr(subformulae=[[BigAnd(subformulae=[BigOr(subformulae=[BigOr(subformulae=[Neg(subformula=Symbol(label='P'), label='~'), Constant(label='Q')]), True]), BigAnd(subformulae=[Symbol(label='R'), False])]), Symbol(label='A')]]), BigOr(subformulae=[[BigAnd(subformulae=[BigOr(subformulae=[BigOr(subformulae=[Neg(subformula=Symbol(label='P'), label='~'), Constant(label='Q')]), True]), BigAnd(subformulae=[Symbol(label='R'), False])]), BigAnd(subformulae=[Constant(label='B'), Neg(subformula=Symbol(label='C'), label='~')])]])]), True, False)\n",
      "#### #### #### #### #### #### #### #### #### \n"
     ]
    }
   ],
   "source": [
    "print(o1, 'zimzalabim' ,odict['transform']['o1'])\n",
    "print('#### #### #### ' * 3)\n",
    "print(o2, 'zimzalabim' ,odict['transform']['o2'])\n",
    "print('#### #### #### ' * 3)\n",
    "print(o3, 'zimzalabim' ,odict['transform']['o3'])\n",
    "print('#### #### #### ' * 3)\n",
    "print(o4, 'zimzalabim' ,odict['transform']['o4'])\n",
    "print('#### #### #### ' * 3)\n",
    "print(o5, 'zimzalabim' ,odict['transform']['o5'])\n",
    "print('#### #### #### ' * 3)\n",
    "print(o6, 'zimzalabim' ,odict['transform']['o6'])\n",
    "print('#### #### #### ' * 3)\n",
    "print(o7, 'zimzalabim' ,odict['transform']['o7'])\n",
    "print('#### #### #### ' * 3)\n",
    "print(o8, 'zimzalabim' ,odict['transform']['o8'])\n",
    "print('#### #### #### ' * 3)\n",
    "print(o9, 'zimzalabim' ,odict['transform']['o9'])\n",
    "print('#### #### #### ' * 3)"
   ]
  },
  {
   "cell_type": "code",
   "execution_count": 346,
   "id": "e9281b19",
   "metadata": {},
   "outputs": [],
   "source": [
    "def neg_checker(formula):\n",
    "    if type(formula).__name__ != 'Neg': return formula\n",
    "    #print(f'neg checking: {formula}')\n",
    "    if type(formula.subformula).__name__ == 'BigAnd':\n",
    "        corr = BigOr([neg_checker(Neg(el)) for el in formula.subformula.subformulae])\n",
    "    elif type(formula.subformula).__name__ == 'BigOr':\n",
    "        corr = BigAnd([neg_checker(Neg(el)) for el in formula.subformula.subformulae])\n",
    "    elif type(formula.subformula).__name__ == 'And':\n",
    "        corr = BigOr([neg_checker(Neg(formula.subformula.first)), neg_checker(Neg(formula.subformula.second))])\n",
    "    elif type(formula.subformula).__name__ == 'Or':\n",
    "        corr = BigAnd([neg_checker(Neg(formula.subformula.first)), neg_checker(Neg(formula.subformula.second))])\n",
    "    elif type(formula.subformula).__name__ == 'Neg':\n",
    "        corr = neg_checker(formula.subformula.subformula)\n",
    "    elif type(formula).__name__ == 'bool':\n",
    "        return not formula\n",
    "    else: return formula\n",
    "    #print(f'neg correction: {corr}')    \n",
    "    return corr"
   ]
  },
  {
   "cell_type": "code",
   "execution_count": 286,
   "id": "12eec82b",
   "metadata": {},
   "outputs": [],
   "source": [
    "def is_clause(formula):\n",
    "    if type(formula).__name__ in ['And', 'BigAnd']: return False\n",
    "    if type(formula).__name__ in ['Symbol', 'Constant', 'bool', 'Neg']: return True\n",
    "    subs = formula.subformulae\n",
    "    out = []\n",
    "    for i in subs:\n",
    "        if type(i).__name__ in ['And', 'BigAnd']: return False\n",
    "        elif type(i).__name__ == 'BigOr': out.append(is_clause(i))\n",
    "    for o in out: \n",
    "        if o != True: return False\n",
    "    return True\n",
    "\n",
    "def is_cnf(formula):\n",
    "    #print(f'is it cnf ? {formula}')\n",
    "    if type(formula).__name__ != 'BigAnd': return False\n",
    "    subs = formula.subformulae\n",
    "    for i in subs:\n",
    "        if type(i).__name__ == 'BigOr' and not is_clause(i): return False\n",
    "        if type(i).__name__ == 'BigAnd' and not is_term(i): return False\n",
    "        if type(i).__name__ in ['Symbol', 'Constant', 'bool']: continue\n",
    "        if type(i).__name__ == 'Neg': return is_clause(i.subformula)\n",
    "    return True\n",
    "\n",
    "def is_term(formula):\n",
    "    if type(formula).__name__ in ['Or', 'BigOr']: return False\n",
    "    if type(formula).__name__ in ['Symbol', 'Constant', 'bool', 'Neg']: return True\n",
    "    subs = formula.subformulae\n",
    "    out = []\n",
    "    for i in subs:\n",
    "        if type(i).__name__ in ['Or', 'BigOr']: return False\n",
    "        elif type(i).__name__ == 'BigAnd': out.append(is_term(i))\n",
    "    for o in out: \n",
    "        if o != True: return False\n",
    "    return True\n",
    "\n",
    "def is_dnf(formula):\n",
    "    if type(formula).__name__ != 'BigOr': return False\n",
    "    subs = formula.subformulae\n",
    "    for i in subs:\n",
    "        if type(i).__name__ == 'BigAnd' and not is_term(i): return False\n",
    "        if type(i).__name__ == 'BigOr' and not is_clause(i): return False\n",
    "        if type(i).__name__ in ['Symbol', 'Constant', 'bool']: continue\n",
    "        if type(i).__name__ == 'Neg': return is_term(i.subformula)\n",
    "    return True"
   ]
  },
  {
   "cell_type": "code",
   "execution_count": 214,
   "id": "290fea8d",
   "metadata": {},
   "outputs": [],
   "source": [
    "def _or(big):\n",
    "    print(f'correcting {big}')\n",
    "    if type(big).__name__ != 'BigOr': return big\n",
    "    for d, i in enumerate(big.subformulae):\n",
    "        corr = BigOr([])\n",
    "        if type(i).__name__ == 'BigAnd':\n",
    "            cl = []\n",
    "            for subel in i.subformulae:\n",
    "                cl.append(BigOr([big.subformulae[:d] \n",
    "                                + big.subformulae[1+d:] \n",
    "                                + [subel]]))\n",
    "            corr = BigAnd(subformulae = cl)\n",
    "            print(f'correction: {is_cnf(corr)} == {corr}')\n",
    "            return _or(corr)\n",
    "        elif type(i).__name__ == 'BigOr':\n",
    "            print(f'append to bigor? {i}')\n",
    "            for sub in i:\n",
    "                if not is_clause(sub):\n",
    "                    sub = _or(sub)\n",
    "                    print(f'correction** {sub}')\n",
    "                    big.subformulae[d] = sub\n",
    "                    return big\n",
    "        else:\n",
    "            print(f'appending {i} to {corr}')\n",
    "            corr.subformulae.append(i)\n",
    "        print(f'valid clause? {corr}, {is_clause(corr)}')\n",
    "        return corr"
   ]
  },
  {
   "cell_type": "code",
   "execution_count": 293,
   "id": "ad91271c",
   "metadata": {},
   "outputs": [],
   "source": [
    "def transform(formula):\n",
    "    print(f'transforming {formula}')\n",
    "    formula = to_nnf(formula)\n",
    "    print(f'nnf {formula}')\n",
    "    formula = big_maker(formula)\n",
    "    print(f'big {formula}')\n",
    "    if type(formula).__name__ == 'BigAnd': formula = big_maker(to_nnf(Neg(formula)))\n",
    "    \n",
    "    while not is_cnf(formula) and not is_dnf(formula):\n",
    "        formula = _or(formula)\n",
    "    return formula, is_cnf(formula), is_dnf(formula)"
   ]
  },
  {
   "cell_type": "code",
   "execution_count": 297,
   "id": "ae086d4d",
   "metadata": {
    "scrolled": true
   },
   "outputs": [
    {
     "name": "stdout",
     "output_type": "stream",
     "text": [
      "~(~(A \\/ B) \\/ ~(A -> B))\n"
     ]
    }
   ],
   "source": [
    "f = Neg(BigOr(subformulae=[Neg(Or(Symbol('A'), Symbol('B'))), Neg(Impl(Symbol('A'), Symbol('B')))]))\n",
    "print(f)"
   ]
  },
  {
   "cell_type": "code",
   "execution_count": 298,
   "id": "6c5cf29f",
   "metadata": {},
   "outputs": [
    {
     "name": "stdout",
     "output_type": "stream",
     "text": [
      "~((~P /\\ ~((P \\/ Q) -> P)) -> False)\n"
     ]
    }
   ],
   "source": [
    "f1 = Neg(Impl(first=And(first=Neg(Symbol('P')), second=Neg(Impl(first=Or(first=Symbol('P'), second=Symbol('Q')), second=Symbol('P')))), second=False))\n",
    "print(f1)"
   ]
  },
  {
   "cell_type": "code",
   "execution_count": 301,
   "id": "b9122381",
   "metadata": {},
   "outputs": [
    {
     "name": "stdout",
     "output_type": "stream",
     "text": [
      "((A /\\ (House -> True)) \\/ (((O -> R) \\/ True) /\\ (Q /\\ False)))\n"
     ]
    }
   ],
   "source": [
    "f2 = Or(first=And(first=Symbol('A'), second=Impl(Constant('House'), True)), second=And(first=Or(first=Impl(Symbol('O'), second=Constant('R')), second=True), second=And(Symbol('Q'), False)))\n",
    "print(f2)"
   ]
  },
  {
   "cell_type": "code",
   "execution_count": 345,
   "id": "45db288b",
   "metadata": {},
   "outputs": [],
   "source": [
    "f3 = Neg(BigOr(subformulae=[Neg(Or(Symbol('P'), Symbol('Q'))), Neg(Impl(Symbol('Q'), Symbol('P')))]))\n",
    "\n",
    "f4 = Neg(Impl(first=And(first=Neg(Symbol('P')), second=Neg(Impl(first=Or(first=Symbol('P'), second=Symbol('Q')), second=Symbol('P')))), second=False))\n",
    "\n",
    "f5 = Or(first=And(first=Symbol('A'), second=Impl(Constant('House'), True)), second=And(first=Or(first=Impl(Symbol('O'), second=Constant('R')), second=True), second=And(Symbol('Q'), False)))\n",
    "\n",
    "f6 = Or(first=And(first=Symbol('X'), second=Neg(Impl(Symbol('Y'), Constant('Z')))), second=And(first=Or(first=Impl(Symbol('P'), second=Constant('Q')), second=True), second=And(Symbol('R'), False)))\n",
    "\n",
    "f7 = Neg(Impl(first=And(first=Neg(Symbol('X')), second=Neg(Impl(first=Or(first=Symbol('X'), second=Symbol('Y')), second=Symbol('X')))), second=False))\n",
    "\n",
    "f8 = Or(first=And(first=Symbol('P'), second=Impl(Constant('R'), Symbol('S'))), second=And(first=Or(first=Impl(Symbol('M'), second=Constant('N')), second=True), second=And(Symbol('Q'), False)))\n",
    "\n",
    "f9 = Or(first=And(first=Symbol('A'), second=Neg(Impl(Constant('B'), Symbol('C')))), second=And(first=Or(first=Impl(Symbol('P'), second=Constant('Q')), second=True), second=And(Symbol('R'), False)))\n"
   ]
  },
  {
   "cell_type": "code",
   "execution_count": 67,
   "id": "2ad429a6",
   "metadata": {},
   "outputs": [],
   "source": [
    "big.subformulae[0] = corr"
   ]
  },
  {
   "cell_type": "code",
   "execution_count": 68,
   "id": "76e4f2cb",
   "metadata": {},
   "outputs": [
    {
     "name": "stdout",
     "output_type": "stream",
     "text": [
      "(([BigOr(subformulae=[[Symbol(label='P'), Symbol(label='P')]]), BigOr(subformulae=[[Symbol(label='P'), Symbol(label='P')]])] /\\ [BigOr(subformulae=[[Symbol(label='P'), Symbol(label='P')]]), BigOr(subformulae=[[Symbol(label='P'), Symbol(label='Q')]])]) \\/ False)\n"
     ]
    }
   ],
   "source": [
    "print(big)"
   ]
  },
  {
   "cell_type": "code",
   "execution_count": 73,
   "id": "8c8a3d05",
   "metadata": {},
   "outputs": [
    {
     "name": "stdout",
     "output_type": "stream",
     "text": [
      "<class 'propositional.BigOr'>\n",
      "<class 'propositional.BigOr'>\n"
     ]
    }
   ],
   "source": [
    "for i in corr.subformulae:\n",
    "    print(type(i))"
   ]
  },
  {
   "cell_type": "code",
   "execution_count": 82,
   "id": "111ce1dc",
   "metadata": {},
   "outputs": [
    {
     "data": {
      "text/plain": [
       "True"
      ]
     },
     "execution_count": 82,
     "metadata": {},
     "output_type": "execute_result"
    }
   ],
   "source": [
    "is_cnf(corr)"
   ]
  },
  {
   "cell_type": "code",
   "execution_count": 87,
   "id": "7bf3d541",
   "metadata": {},
   "outputs": [
    {
     "data": {
      "text/plain": [
       "BigOr(subformulae=[False])"
      ]
     },
     "execution_count": 87,
     "metadata": {},
     "output_type": "execute_result"
    }
   ],
   "source": [
    "corr"
   ]
  },
  {
   "cell_type": "code",
   "execution_count": 85,
   "id": "66ece40d",
   "metadata": {},
   "outputs": [
    {
     "data": {
      "text/plain": [
       "BigOr(subformulae=[False])"
      ]
     },
     "execution_count": 85,
     "metadata": {},
     "output_type": "execute_result"
    }
   ],
   "source": [
    "corr"
   ]
  }
 ],
 "metadata": {
  "kernelspec": {
   "display_name": "Python 3 (ipykernel)",
   "language": "python",
   "name": "python3"
  },
  "language_info": {
   "codemirror_mode": {
    "name": "ipython",
    "version": 3
   },
   "file_extension": ".py",
   "mimetype": "text/x-python",
   "name": "python",
   "nbconvert_exporter": "python",
   "pygments_lexer": "ipython3",
   "version": "3.11.2"
  }
 },
 "nbformat": 4,
 "nbformat_minor": 5
}
