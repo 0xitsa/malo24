{
 "cells": [
  {
   "cell_type": "code",
   "execution_count": 1,
   "id": "8a9fbedc",
   "metadata": {},
   "outputs": [],
   "source": [
    "from assignment import *\n",
    "from propositional import *\n",
    "from util import *"
   ]
  },
  {
   "cell_type": "code",
   "execution_count": 2,
   "id": "e8f37d25",
   "metadata": {},
   "outputs": [],
   "source": [
    "def to_nnf_neg(formula):\n",
    "    sub = formula.subformula\n",
    "    if type(sub).__name__ == 'Or':\n",
    "        corr = And(Neg(sub.first), Neg(sub.second))\n",
    "    elif type(sub).__name__ == 'And':\n",
    "        corr = Or(Neg(sub.first), Neg(sub.second))\n",
    "    elif type(sub).__name__ == 'Impl':\n",
    "        corr = to_nnf_neg(Neg(to_nnf_impl(sub)))\n",
    "    elif type(sub).__name__ == 'Neg':\n",
    "        corr = sub.subformula\n",
    "    elif type(sub).__name__ == 'Symbol':\n",
    "        corr = formula\n",
    "        return corr\n",
    "    elif type(sub).__name__ == 'BigOr':\n",
    "        corrs = [to_nnf(Neg(subi)) for subi in sub.subformulae]\n",
    "        corr = BigAnd(corrs)\n",
    "    elif type(sub).__name__ == 'BigAnd':\n",
    "        corrs = [to_nnf(subi) for subi in sub.subformulae]\n",
    "        corr = BigOr(corrs)\n",
    "    elif type(sub).__name__ == 'bool' or type(formula).__name__ == 'Constant':\n",
    "        return formula\n",
    "    return to_nnf(corr)"
   ]
  },
  {
   "cell_type": "code",
   "execution_count": 3,
   "id": "3c28bd79",
   "metadata": {},
   "outputs": [],
   "source": [
    "def to_nnf_impl(formula):\n",
    "    corr = Or(to_nnf_neg(Neg(formula.first)), to_nnf(formula.second))\n",
    "    return to_nnf(corr) "
   ]
  },
  {
   "cell_type": "code",
   "execution_count": 4,
   "id": "edf0961b",
   "metadata": {},
   "outputs": [],
   "source": [
    "def to_nnf(formula):\n",
    "    #print('correcting :', formula)\n",
    "    if type(formula).__name__ == 'Neg':\n",
    "        corr = to_nnf_neg(formula)\n",
    "    if type(formula).__name__ == 'Or':\n",
    "        corr = Or(to_nnf(formula.first), to_nnf(formula.second))\n",
    "    elif type(formula).__name__ == 'And':\n",
    "        corr = And(to_nnf(formula.first), to_nnf(formula.second))\n",
    "    elif type(formula).__name__ == 'Impl':\n",
    "        corr = to_nnf_impl(formula)\n",
    "    elif type(formula).__name__ == 'Symbol':\n",
    "        corr = formula\n",
    "    elif type(formula).__name__ == 'BigOr':\n",
    "        corrs = [to_nnf(sub) for sub in formula.subformulae]\n",
    "        corr = BigOr(corrs)\n",
    "    elif type(formula).__name__ == 'BigAnd':\n",
    "        corrs = [to_nnf(sub) for sub in formula.subformulae]\n",
    "        corr = BigAnd(corrs)\n",
    "    elif type(formula).__name__ == 'bool' or type(formula).__name__ == 'Constant':\n",
    "        return formula\n",
    "    #print('correctiON :', corr)\n",
    "    return corr"
   ]
  },
  {
   "cell_type": "code",
   "execution_count": 5,
   "id": "03b991a9",
   "metadata": {},
   "outputs": [],
   "source": [
    "def big_maker(formula):  \n",
    "    if type(formula).__name__ == 'Neg':\n",
    "        return big_maker(formula.subformula)\n",
    "    if type(formula).__name__ == 'Or':\n",
    "        return BigOr([big_maker(formula.first), big_maker(formula.second)])\n",
    "    elif type(formula).__name__ == 'And':\n",
    "        return BigAnd([big_maker(formula.first), big_maker(formula.second)])\n",
    "    elif type(formula).__name__ == 'Symbol':\n",
    "        return formula\n",
    "    elif type(formula).__name__ == 'BigOr':\n",
    "        return formula\n",
    "    elif type(formula).__name__ == 'BigAnd':\n",
    "        return formula\n",
    "    elif type(formula).__name__ == 'bool' or type(formula).__name__ == 'Constant':\n",
    "        return formula"
   ]
  },
  {
   "cell_type": "code",
   "execution_count": 6,
   "id": "12eec82b",
   "metadata": {},
   "outputs": [],
   "source": [
    "def is_clause(formula):\n",
    "    subs = formula.subformulae\n",
    "    out = []\n",
    "    for i in subs:\n",
    "        if type(i).__name__ in ['And', 'BigAnd']:\n",
    "            return False\n",
    "        elif type(i).__name__ == 'BigOr':\n",
    "            out.append(is_clause(i))\n",
    "    for o in out:\n",
    "        if o != True: return False\n",
    "    return True\n",
    "\n",
    "def is_cnf(formula):\n",
    "    subs = formula.subformulae\n",
    "    for i in subs:\n",
    "        if type(i).__name__ == 'BigOr' and not is_clause(i): return False\n",
    "        if type(i).__name__ in ['Or']: return False\n",
    "    return True"
   ]
  },
  {
   "cell_type": "code",
   "execution_count": 7,
   "id": "e9281b19",
   "metadata": {},
   "outputs": [],
   "source": [
    "def neg_checker(formula):\n",
    "    print(f'neg checking: {formula}')\n",
    "    if type(formula.subformula) == 'BigAnd':\n",
    "        corr = BigOr([neg_checker(Neg(el)) for el in formula.subformula.subformulae])\n",
    "    elif type(formula.subformula) == 'BigOr':\n",
    "        corr = BigAnd([neg_checker(Neg(el)) for el in formula.subformula.subformulae])\n",
    "    elif type(formula.subformula).__name__ == 'And':\n",
    "        corr = Or(neg_checker(Neg(formula.subformula.first)), neg_checker(Neg(formula.subformula.second)))\n",
    "    elif type(formula.subformula).__name__ == 'Or':\n",
    "        corr = And(neg_checker(Neg(formula.subformula.first)), neg_checker(Neg(formula.subformula.second)))\n",
    "    elif type(formula.subformula).__name__ == 'Neg':\n",
    "        corr = formula.subformula.subformula\n",
    "    else:\n",
    "        corr = formula\n",
    "    print(f'neg correction: {corr}')    \n",
    "    return corr"
   ]
  },
  {
   "cell_type": "code",
   "execution_count": 8,
   "id": "104750b7",
   "metadata": {},
   "outputs": [],
   "source": [
    "def to_cnf(formula):\n",
    "    corr = formula\n",
    "    print(f\"correcting: {formula}\")\n",
    "    formula = big_maker(formula)\n",
    "    print(type(formula).__name__)\n",
    "    if type(formula).__name__ == 'BigOr' and not is_clause(formula):\n",
    "        corr = to_cnf_or(formula)\n",
    "        if type(formula).__name__ == 'BigOr' and is_clause(formula):\n",
    "            corr = BigAnd([neg_checker(Neg(sub)) for sub in formula.subformulae])\n",
    "    elif type(formula).__name__ == 'BigAnd' and not is_cnf(formula):\n",
    "        corr = to_cnf_and(formula)\n",
    "    print(f'Correction**: {corr}')\n",
    "    return corr"
   ]
  },
  {
   "cell_type": "code",
   "execution_count": 9,
   "id": "e42f790e",
   "metadata": {},
   "outputs": [],
   "source": [
    "def to_cnf_and(formula):\n",
    "    print(f\"correcting AND: {formula}\")\n",
    "    corr = BigAnd([])\n",
    "    for idx, el in enumerate(formula.subformulae):\n",
    "        if type(el).__name__ == 'BigOr' and not is_clause(formula):\n",
    "            cl = []\n",
    "            for subel in el.subformulae:\n",
    "                cl.append(BigAnd(formula.subformulae[:idx] + formula.subformulae[1+idx:] + el))\n",
    "            corr = BigOr([to_cnf(c) for c in cl])\n",
    "            break\n",
    "        \n",
    "        else:\n",
    "            corr.subformulae.append(el)\n",
    "    print(f'correction* AND: {corr}')\n",
    "    return to_cnf(corr)\n",
    "    "
   ]
  },
  {
   "cell_type": "code",
   "execution_count": 10,
   "id": "badc9874",
   "metadata": {},
   "outputs": [],
   "source": [
    "def to_cnf_or(formula):\n",
    "    corr = BigOr([])\n",
    "    for idx, el in enumerate(formula.subformulae):\n",
    "        if type(el).__name__ == 'BigAnd':\n",
    "            cl = []\n",
    "            for subel in el.subformulae:\n",
    "                cl.append(BigOr(formula.subformulae[:idx] + formula.subformulae[1+idx:] + [subel]))\n",
    "            corr = BigAnd([to_cnf(c) for c in cl])\n",
    "            break\n",
    "        elif type(el).__name__ == \"BigOr\":\n",
    "            sub = to_cnf(el)\n",
    "            corr.subformulae.append(sub.subformulae)\n",
    "    print(f'correction* OR: {corr}')\n",
    "    return corr"
   ]
  },
  {
   "cell_type": "code",
   "execution_count": 11,
   "id": "ae086d4d",
   "metadata": {},
   "outputs": [
    {
     "name": "stdout",
     "output_type": "stream",
     "text": [
      "~(~(A \\/ B) \\/ ~(A -> B))\n"
     ]
    }
   ],
   "source": [
    "form = Neg(BigOr(subformulae=[Neg(Or(Symbol('A'), Symbol('B'))), Neg(Impl(Symbol('A'), Symbol('B')))]))\n",
    "print(form)"
   ]
  },
  {
   "cell_type": "code",
   "execution_count": 12,
   "id": "6c5cf29f",
   "metadata": {},
   "outputs": [
    {
     "name": "stdout",
     "output_type": "stream",
     "text": [
      "((~P /\\ ~((P \\/ Q) -> P)) -> False)\n"
     ]
    }
   ],
   "source": [
    "form = Impl(first=And(first=Neg(Symbol('P')), second=Neg(Impl(first=Or(first=Symbol('P'), second=Symbol('Q')), second=Symbol('P')))), second=False)\n",
    "print(form)"
   ]
  },
  {
   "cell_type": "code",
   "execution_count": 13,
   "id": "772dc83a",
   "metadata": {},
   "outputs": [
    {
     "name": "stdout",
     "output_type": "stream",
     "text": [
      "((P \\/ ((~P /\\ ~Q) \\/ P)) \\/ False)\n"
     ]
    }
   ],
   "source": [
    "corr = to_nnf(form)\n",
    "print(corr)"
   ]
  },
  {
   "cell_type": "code",
   "execution_count": 22,
   "id": "9fd050dd",
   "metadata": {},
   "outputs": [
    {
     "ename": "TypeError",
     "evalue": "Or.__init__() missing 2 required positional arguments: 'first' and 'second'",
     "output_type": "error",
     "traceback": [
      "\u001b[0;31m---------------------------------------------------------------------------\u001b[0m",
      "\u001b[0;31mTypeError\u001b[0m                                 Traceback (most recent call last)",
      "Cell \u001b[0;32mIn [22], line 1\u001b[0m\n\u001b[0;32m----> 1\u001b[0m \u001b[43mOr\u001b[49m\u001b[43m(\u001b[49m\u001b[43m)\u001b[49m\n",
      "\u001b[0;31mTypeError\u001b[0m: Or.__init__() missing 2 required positional arguments: 'first' and 'second'"
     ]
    }
   ],
   "source": []
  }
 ],
 "metadata": {
  "kernelspec": {
   "display_name": "Python 3 (ipykernel)",
   "language": "python",
   "name": "python3"
  },
  "language_info": {
   "codemirror_mode": {
    "name": "ipython",
    "version": 3
   },
   "file_extension": ".py",
   "mimetype": "text/x-python",
   "name": "python",
   "nbconvert_exporter": "python",
   "pygments_lexer": "ipython3",
   "version": "3.11.2"
  }
 },
 "nbformat": 4,
 "nbformat_minor": 5
}
