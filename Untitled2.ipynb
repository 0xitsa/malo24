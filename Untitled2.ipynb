{
 "cells": [
  {
   "cell_type": "code",
   "execution_count": 4,
   "id": "78f3c94e",
   "metadata": {},
   "outputs": [],
   "source": [
    "from propositional import *\n",
    "from typing import List, Tuple, Optional, Dict\n",
    "\n",
    "def dpll(formula: CNF, interpretation: Optional[Interpretation] = None) -> Tuple[bool, Optional[Interpretation]]:\n",
    "    \"\"\"Implements the DPLL algorithm for propositional logic satisfiability.\n",
    "\n",
    "    Args:\n",
    "        formula: A CNF formula to check for satisfiability.\n",
    "        interpretation: An optional partial interpretation to start with.\n",
    "\n",
    "    Returns:\n",
    "        A tuple containing:\n",
    "            - A boolean indicating whether the formula is satisfiable.\n",
    "            - If satisfiable, a model (complete interpretation) that satisfies the formula, otherwise None.\n",
    "    \"\"\"\n",
    "    if interpretation is None:\n",
    "        interpretation = {}\n",
    "\n",
    "    # 1. Unit Propagation\n",
    "    while True:\n",
    "        unit_clause = find_unit_clause(formula, interpretation)\n",
    "        if unit_clause is None:\n",
    "            break\n",
    "        symbol, value = unit_clause\n",
    "        interpretation[symbol] = value\n",
    "        formula = simplify(formula, symbol, value)\n",
    "\n",
    "    # 2. Pure Literal Elimination\n",
    "    while True:\n",
    "        pure_literal = find_pure_literal(formula, interpretation)\n",
    "        if pure_literal is None:\n",
    "            break\n",
    "        symbol, value = pure_literal\n",
    "        interpretation[symbol] = value\n",
    "        formula = simplify(formula, symbol, value)\n",
    "\n",
    "    # 3. Base Cases\n",
    "    if len(formula.subformulae) == 0:  # Formula is empty, satisfiable\n",
    "        return True, interpretation\n",
    "\n",
    "    if any(len(clause.subformulae) == 0 for clause in formula.subformulae):  # Empty clause, unsatisfiable\n",
    "        return False, None\n",
    "\n",
    "    # 4. Branching\n",
    "    symbol = next(iter(formula.subformulae[0].subformulae[0].symbols))  # Pick an unassigned symbol\n",
    "\n",
    "    # 4.1 Try assigning True\n",
    "    result, model = dpll(formula, interpretation.copy())\n",
    "    if result:  # If True assignment leads to a model, return it\n",
    "        return True, model\n",
    "\n",
    "    # 4.2 Try assigning False\n",
    "    interpretation[symbol] = False\n",
    "    result, model = dpll(formula, interpretation)\n",
    "    return result, model\n",
    "\n",
    "def find_unit_clause(formula: CNF, interpretation: Interpretation) -> Optional[Tuple[Symbol, bool]]:\n",
    "    \"\"\"Finds a unit clause in the formula, given the current interpretation.\"\"\"\n",
    "    for clause in formula.subformulae:\n",
    "        unassigned_literals = [lit for lit in clause.subformulae if lit.symbols not in interpretation]\n",
    "        if len(unassigned_literals) == 1:\n",
    "            literal = unassigned_literals[0]\n",
    "            if isinstance(literal, Neg):\n",
    "                return literal.subformula, False\n",
    "            else:\n",
    "                return literal, True\n",
    "    return None\n",
    "\n",
    "def find_pure_literal(formula: CNF, interpretation: Interpretation) -> Optional[Tuple[Symbol, bool]]:\n",
    "    \"\"\"Finds a pure literal in the formula, given the current interpretation.\"\"\"\n",
    "    for symbol in chain.from_iterable(clause.symbols for clause in formula.subformulae):\n",
    "        if symbol not in interpretation:\n",
    "            if all(isinstance(lit, Neg) for lit in chain.from_iterable(clause.subformulae for clause in formula.subformulae if symbol in clause.symbols)):\n",
    "                return symbol, False\n",
    "            elif all(not isinstance(lit, Neg) for lit in chain.from_iterable(clause.subformulae for clause in formula.subformulae if symbol in clause.symbols)):\n",
    "                return symbol, True\n",
    "    return None\n",
    "\n",
    "def simplify(formula: CNF, symbol: Symbol, value: bool) -> CNF:\n",
    "    \"\"\"Simplifies the formula by removing clauses containing the assigned symbol and removing the symbol from other clauses.\"\"\"\n",
    "    clauses = [clause for clause in formula.subformulae if symbol not in clause.symbols]\n",
    "    for clause in clauses:\n",
    "        if isinstance(clause, BigOr):\n",
    "            clauses.append(BigOr(*[lit for lit in clause.subformulae if not (isinstance(lit, Neg) and lit.subformula == symbol) or (not isinstance(lit, Neg) and lit == symbol and value == False)]))\n",
    "            clauses.remove(clause)\n",
    "    return BigAnd(*clauses)\n"
   ]
  },
  {
   "cell_type": "code",
   "execution_count": null,
   "id": "0fbef09a",
   "metadata": {},
   "outputs": [],
   "source": [
    "# Example usage\n",
    "formula_string = \"(A /\\\\ B) -> (C \\\\/ ~D)\"\n",
    "formula = Formula.parse(formula_string).as_nnf().as_cnf()\n",
    "\n",
    "print(\"Formula:\", formula)\n",
    "result, model = dpll(formula)\n",
    "if result:\n",
    "    print(\"Satisfiable\")\n",
    "    print(\"Model:\", model)\n",
    "else:\n",
    "    print(\"Unsatisfiable\")"
   ]
  },
  {
   "cell_type": "code",
   "execution_count": 5,
   "id": "c61e49a5",
   "metadata": {},
   "outputs": [],
   "source": [
    "f = BigAnd(Formula.parse(\"(X \\\\/ Y)\"), Formula.parse(\"(X \\\\/ ~Y)\"), Formula.parse(\"(Z \\\\/ ~Z)\"))"
   ]
  },
  {
   "cell_type": "code",
   "execution_count": 9,
   "id": "09307bb9",
   "metadata": {},
   "outputs": [
    {
     "ename": "AttributeError",
     "evalue": "'Or' object has no attribute 'subformulae'",
     "output_type": "error",
     "traceback": [
      "\u001b[0;31m---------------------------------------------------------------------------\u001b[0m",
      "\u001b[0;31mAttributeError\u001b[0m                            Traceback (most recent call last)",
      "Cell \u001b[0;32mIn [9], line 1\u001b[0m\n\u001b[0;32m----> 1\u001b[0m \u001b[43mfind_unit_clause\u001b[49m\u001b[43m(\u001b[49m\u001b[43mf\u001b[49m\u001b[43m,\u001b[49m\u001b[43m \u001b[49m\u001b[38;5;28;43;01mNone\u001b[39;49;00m\u001b[43m)\u001b[49m\n",
      "Cell \u001b[0;32mIn [4], line 60\u001b[0m, in \u001b[0;36mfind_unit_clause\u001b[0;34m(formula, interpretation)\u001b[0m\n\u001b[1;32m     58\u001b[0m \u001b[38;5;250m\u001b[39m\u001b[38;5;124;03m\"\"\"Finds a unit clause in the formula, given the current interpretation.\"\"\"\u001b[39;00m\n\u001b[1;32m     59\u001b[0m \u001b[38;5;28;01mfor\u001b[39;00m clause \u001b[38;5;129;01min\u001b[39;00m formula\u001b[38;5;241m.\u001b[39msubformulae:\n\u001b[0;32m---> 60\u001b[0m     unassigned_literals \u001b[38;5;241m=\u001b[39m [lit \u001b[38;5;28;01mfor\u001b[39;00m lit \u001b[38;5;129;01min\u001b[39;00m \u001b[43mclause\u001b[49m\u001b[38;5;241;43m.\u001b[39;49m\u001b[43msubformulae\u001b[49m \u001b[38;5;28;01mif\u001b[39;00m lit\u001b[38;5;241m.\u001b[39msymbols \u001b[38;5;129;01mnot\u001b[39;00m \u001b[38;5;129;01min\u001b[39;00m interpretation]\n\u001b[1;32m     61\u001b[0m     \u001b[38;5;28;01mif\u001b[39;00m \u001b[38;5;28mlen\u001b[39m(unassigned_literals) \u001b[38;5;241m==\u001b[39m \u001b[38;5;241m1\u001b[39m:\n\u001b[1;32m     62\u001b[0m         literal \u001b[38;5;241m=\u001b[39m unassigned_literals[\u001b[38;5;241m0\u001b[39m]\n",
      "\u001b[0;31mAttributeError\u001b[0m: 'Or' object has no attribute 'subformulae'"
     ]
    }
   ],
   "source": [
    "find_unit_clause(f, None)"
   ]
  }
 ],
 "metadata": {
  "kernelspec": {
   "display_name": "Python 3 (ipykernel)",
   "language": "python",
   "name": "python3"
  },
  "language_info": {
   "codemirror_mode": {
    "name": "ipython",
    "version": 3
   },
   "file_extension": ".py",
   "mimetype": "text/x-python",
   "name": "python",
   "nbconvert_exporter": "python",
   "pygments_lexer": "ipython3",
   "version": "3.11.2"
  }
 },
 "nbformat": 4,
 "nbformat_minor": 5
}
