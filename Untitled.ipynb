{
 "cells": [
  {
   "cell_type": "code",
   "execution_count": 22,
   "id": "9f99eeec",
   "metadata": {},
   "outputs": [],
   "source": [
    "from propositional import Formula, BigAnd, BigOr, Symbol, Neg, Or, And, Impl, Constant\n",
    "\n",
    "def to_big_formula(formula: Formula) -> BigAnd | BigOr:\n",
    "    \"\"\"Converts any formula to an equivalent BigAnd or BigOr formula, recursively converting all subformulae.\n",
    "\n",
    "    Args:\n",
    "        formula: The formula to convert.\n",
    "\n",
    "    Returns:\n",
    "        An equivalent BigAnd or BigOr formula.\n",
    "    \"\"\"\n",
    "\n",
    "    if isinstance(formula, (Symbol, Neg, Constant)):\n",
    "        return BigOr(formula)  # or BigAnd(formula) if you prefer\n",
    "\n",
    "    # Recursive cases:\n",
    "    match formula:\n",
    "        case Or(f1, f2):\n",
    "            return BigOr(to_big_formula(f1), to_big_formula(f2))\n",
    "        case And(f1, f2):\n",
    "            return BigAnd(to_big_formula(f1), to_big_formula(f2))\n",
    "        case Impl(f1, f2):\n",
    "            return BigOr(Neg(to_big_formula(f1)), to_big_formula(f2))\n",
    "        case BigAnd(subforms):\n",
    "            subs = (to_big_formula(s) for s in formula.subformulae)\n",
    "            return BigAnd(subs)\n",
    "        case BigOr(subforms):\n",
    "            subs = (to_big_formula(s) for s in formula.subformulae)\n",
    "            return BigOr(subs)\n",
    "        case _:\n",
    "            print(\"error\")"
   ]
  },
  {
   "cell_type": "code",
   "execution_count": 23,
   "id": "f7500a49",
   "metadata": {},
   "outputs": [
    {
     "data": {
      "text/plain": [
       "BigAnd(subformulae=(BigOr(subformulae=(BigOr(subformulae=(Symbol(label='X'),)), BigOr(subformulae=(Symbol(label='Y'),)))), BigOr(subformulae=(BigOr(subformulae=(Symbol(label='X'),)), BigOr(subformulae=(Neg(subformula=Symbol(label='Y'), label='~'),)))), BigOr(subformulae=(BigOr(subformulae=(Symbol(label='Z'),)), BigOr(subformulae=(Neg(subformula=Symbol(label='Z'), label='~'),))))))"
      ]
     },
     "execution_count": 23,
     "metadata": {},
     "output_type": "execute_result"
    }
   ],
   "source": [
    "to_big_formula(f)"
   ]
  },
  {
   "cell_type": "code",
   "execution_count": 54,
   "id": "3979caf4",
   "metadata": {},
   "outputs": [],
   "source": [
    "from propositional import *\n",
    "\n",
    "\n",
    "\n",
    "\n",
    "\n",
    "\n",
    "\n",
    "\n",
    "\n",
    "def dpll(formula: CNF) -> Interpretation | None:\n",
    "    \"\"\"Applies the DPLL algorithm to the given CNF formula.\n",
    "\n",
    "    Args:\n",
    "        formula: The formula to check for satisfiability.\n",
    "\n",
    "    Returns:\n",
    "        An interpretation if the formula is satisfiable, and `None` otherwise.\n",
    "    \"\"\"\n",
    "\n",
    "    simplified_formula, interpretation = simplify(formula)\n",
    "\n",
    "    if not simplified_formula:\n",
    "        return interpretation\n",
    "\n",
    "    literal = next(iter(simplified_formula[0]))\n",
    "    \n",
    "    new_formula = CNF(\n",
    "        *[\n",
    "            clause\n",
    "            for clause in simplified_formula\n",
    "            if literal not in clause\n",
    "        ],\n",
    "        *[\n",
    "            tuple(l for l in clause if l != Neg(literal))\n",
    "            for clause in simplified_formula\n",
    "            if Neg(literal) in clause\n",
    "        ],\n",
    "    )\n",
    "    result = dpll(new_formula)\n",
    "    if result is not None:\n",
    "        result[literal] = True\n",
    "        return result\n",
    "\n",
    "    new_formula = CNF(\n",
    "        *[\n",
    "            clause\n",
    "            for clause in simplified_formula\n",
    "            if Neg(literal) not in clause\n",
    "        ],\n",
    "        *[\n",
    "            tuple(l for l in clause if l != literal)\n",
    "            for clause in simplified_formula\n",
    "            if literal in clause\n",
    "        ],\n",
    "    )\n",
    "    result = dpll(new_formula)\n",
    "    if result is not None:\n",
    "        result[literal] = False\n",
    "        return result\n",
    "\n",
    "    return None"
   ]
  },
  {
   "cell_type": "code",
   "execution_count": 27,
   "id": "3d4a5954",
   "metadata": {},
   "outputs": [],
   "source": [
    "from propositional import *"
   ]
  },
  {
   "cell_type": "code",
   "execution_count": 36,
   "id": "61130d7d",
   "metadata": {},
   "outputs": [],
   "source": [
    "from typing import Iterator, Union\n",
    "\n",
    "def get_literals(formula: Formula) -> Iterator[LiteralFormula]:\n",
    "    \"\"\"Gets the literals from a formula.\n",
    "\n",
    "    A literal is a propositional symbol or its negation. This function traverses the formula tree and yields all literals\n",
    "    it finds.\n",
    "\n",
    "    Args:\n",
    "        formula: The formula to extract literals from.\n",
    "\n",
    "    Returns:\n",
    "        An iterator yielding all literals found in the formula.\n",
    "    \"\"\"\n",
    "    match formula:\n",
    "        case Symbol(s) | Neg(Symbol(s)):\n",
    "            yield formula\n",
    "        case Or(f1, f2) | And(f1, f2):\n",
    "            yield from get_literals(f1)\n",
    "            yield from get_literals(f2)\n",
    "        case Impl(f1, f2):\n",
    "            yield from get_literals(f1)\n",
    "            yield from get_literals(f2)\n",
    "        case BigOr(subforms) | BigAnd(subforms):\n",
    "            for i in subforms:\n",
    "                yield from get_literals(i)\n",
    "        case Constant():\n",
    "            pass  # Constants are not literals\n",
    "        case _:\n",
    "            raise TypeError(f\"Unsupported formula type: {type(formula)}\")\n"
   ]
  },
  {
   "cell_type": "code",
   "execution_count": 62,
   "id": "5048e6fa",
   "metadata": {},
   "outputs": [],
   "source": [
    "f = BigAnd(Formula.parse(\"X\"), Formula.parse(\"(X \\\\/ ~Y)\"), Formula.parse(\"(Z \\\\/ ~Z)\"))"
   ]
  },
  {
   "cell_type": "code",
   "execution_count": 63,
   "id": "ea946189",
   "metadata": {},
   "outputs": [
    {
     "data": {
      "text/plain": [
       "BigAnd(subformulae=(Symbol(label='X'), Or(first=Symbol(label='X'), second=Neg(subformula=Symbol(label='Y'), label='~')), Or(first=Symbol(label='Z'), second=Neg(subformula=Symbol(label='Z'), label='~'))))"
      ]
     },
     "execution_count": 63,
     "metadata": {},
     "output_type": "execute_result"
    }
   ],
   "source": [
    "f"
   ]
  },
  {
   "cell_type": "code",
   "execution_count": 67,
   "id": "315971a4",
   "metadata": {},
   "outputs": [],
   "source": [
    "bigf = to_big_formula(f)"
   ]
  },
  {
   "cell_type": "code",
   "execution_count": 148,
   "id": "5ed6f5b0",
   "metadata": {},
   "outputs": [],
   "source": [
    "def pure_literal_rule(formula: CNF) -> tuple[CNF, Interpretation] | None:\n",
    "    interpretation: Interpretation = {}\n",
    "    removed_clauses = set()\n",
    "    \n",
    "    for clause in formula:\n",
    "        for literal in get_literals(clause):\n",
    "            match literal:\n",
    "                case Symbol(name) if Symbol(name) not in interpretation.keys():\n",
    "                    if any(\n",
    "                        Neg(Symbol(name)) in get_literals(other_clause) for other_clause in formula\n",
    "                        if other_clause not in removed_clauses\n",
    "                    ):\n",
    "                        break\n",
    "                    print(f\"pure - Setting {literal} to True\")\n",
    "                    interpretation[literal] = True\n",
    "                    removed_clauses.update(\n",
    "                        clause\n",
    "                        for clause in formula\n",
    "                        if literal in get_literals(clause) and clause not in removed_clauses\n",
    "                    )\n",
    "                case Neg(Symbol(name)) if Symbol(name) not in interpretation:\n",
    "                    if any(\n",
    "                        Symbol(name) in get_literals(other_clause) for other_clause in formula\n",
    "                        if other_clause not in removed_clauses\n",
    "                    ):\n",
    "                        break\n",
    "                    print(f\"pure - Setting {literal} to False\")\n",
    "                    interpretation[Symbol(name)] = False\n",
    "                    removed_clauses.update(\n",
    "                        clause\n",
    "                        for clause in formula\n",
    "                        if literal in get_literals(clause) and clause not in removed_clauses\n",
    "                    )\n",
    "\n",
    "    if removed_clauses:\n",
    "        return (\n",
    "            BigAnd([clause for clause in formula if clause not in removed_clauses]),\n",
    "            interpretation,\n",
    "        )\n",
    "    else:\n",
    "        return None\n",
    "    "
   ]
  },
  {
   "cell_type": "code",
   "execution_count": 149,
   "id": "a5a9834b",
   "metadata": {},
   "outputs": [],
   "source": [
    "def unit_propagation_rule(formula: CNF) -> tuple[CNF, Interpretation] | None:\n",
    "    interpretation: Interpretation = {}\n",
    "    removed_clauses = set()\n",
    "    \n",
    "    for clause in formula:\n",
    "        if sum(1 for _ in get_literals(clause)) == 1:\n",
    "            literal = next(get_literals(clause))\n",
    "            match literal:\n",
    "                case Symbol(name):\n",
    "                    print(f\"unit - Setting {Symbol(name)} to True\")\n",
    "                    interpretation[Symbol(name)] = True\n",
    "                case Neg(Symbol(name)):\n",
    "                    print(f\"unit - Setting {Symbol(name)} to False\")\n",
    "                    interpretation[Symbol(name)] = False\n",
    "                case _:\n",
    "                    raise ValueError(\"Error in unit propagation, unit literal is not a unit\")\n",
    "            \n",
    "            removed_clauses.update(\n",
    "                other\n",
    "                for other in formula\n",
    "                if literal in get_literals(other) and other not in removed_clauses\n",
    "            )\n",
    "            for others in formula:\n",
    "                if literal in get_literals(others):\n",
    "                    removed_clauses.add(others)\n",
    "                else:\n",
    "                    match literal:\n",
    "                        case Symbol(name):\n",
    "                            if Neg(Symbol(name)) in get_literals(others):\n",
    "                                others = tuple(l for l in others if l != Neg(Symbol(name)))\n",
    "                        case Neg(Symbol(name)):\n",
    "                            if Symbol(name) in get_literals(others):\n",
    "                                others = tuple(l for l in others if l != Symbol(name))\n",
    "    \n",
    "    if removed_clauses:\n",
    "        return (\n",
    "            BigAnd([clause for clause in formula if clause not in removed_clauses]),\n",
    "            interpretation,\n",
    "        )\n",
    "    else:\n",
    "        return None\n"
   ]
  },
  {
   "cell_type": "code",
   "execution_count": 117,
   "id": "c4a0ff77",
   "metadata": {
    "scrolled": true
   },
   "outputs": [
    {
     "data": {
      "text/plain": [
       "BigAnd(subformulae=(Symbol(label='X'), Or(first=Symbol(label='X'), second=Neg(subformula=Symbol(label='Y'), label='~')), BigOr(subformulae=(Neg(subformula=Symbol(label='X'), label='~'), Symbol(label='Y'), Symbol(label='Z'), Neg(subformula=Symbol(label='Z'), label='~')))))"
      ]
     },
     "execution_count": 117,
     "metadata": {},
     "output_type": "execute_result"
    }
   ],
   "source": [
    "f"
   ]
  },
  {
   "cell_type": "code",
   "execution_count": 124,
   "id": "867b2d1b",
   "metadata": {
    "scrolled": true
   },
   "outputs": [
    {
     "name": "stdout",
     "output_type": "stream",
     "text": [
      "unit - Setting X to True\n"
     ]
    },
    {
     "data": {
      "text/plain": [
       "(BigAnd(subformulae=(BigOr(subformulae=(Neg(subformula=Symbol(label='X'), label='~'), Symbol(label='Y'), Symbol(label='Z'), Neg(subformula=Symbol(label='Z'), label='~'))),)),\n",
       " {Symbol(label='X'): True})"
      ]
     },
     "execution_count": 124,
     "metadata": {},
     "output_type": "execute_result"
    }
   ],
   "source": [
    "unit_propagation_rule(f)"
   ]
  },
  {
   "cell_type": "code",
   "execution_count": 135,
   "id": "9b1bede7",
   "metadata": {},
   "outputs": [],
   "source": [
    "fu = BigAnd(Formula.parse(\"X\"), Formula.parse(\"(X \\\\/ ~Y)\"), Formula.parse(\"(Z \\\\/ ~Z)\"))"
   ]
  },
  {
   "cell_type": "code",
   "execution_count": 136,
   "id": "fa7b647a",
   "metadata": {},
   "outputs": [],
   "source": [
    "fp = BigAnd(Formula.parse(\"(X \\\\/ Y)\"), Formula.parse(\"(X \\\\/ ~Y)\"), Formula.parse(\"(Z \\\\/ ~Z)\"))"
   ]
  },
  {
   "cell_type": "code",
   "execution_count": 137,
   "id": "3dd65399",
   "metadata": {},
   "outputs": [],
   "source": [
    "fs = BigAnd(Formula.parse(\"X\"), Formula.parse(\"(X \\\\/ ~Y)\"), BigOr([Neg(Symbol('X')), Symbol('Y'), Symbol('Z'), Neg(Symbol('Z'))]))"
   ]
  },
  {
   "cell_type": "code",
   "execution_count": 145,
   "id": "75724053",
   "metadata": {},
   "outputs": [],
   "source": [
    "def simplify(formula: CNF) -> tuple[CNF, Interpretation]:\n",
    "    interpretation: Interpretation = {}\n",
    "    print(formula)\n",
    "    while True:\n",
    "        result = unit_propagation_rule(formula)\n",
    "        if result is not None:\n",
    "            formula, new_interpretation = result\n",
    "            interpretation.update(new_interpretation)\n",
    "            print(formula)\n",
    "            continue\n",
    "        \n",
    "        result = pure_literal_rule(formula)\n",
    "        if result is not None:\n",
    "            formula, new_interpretation = result\n",
    "            interpretation.update(new_interpretation)\n",
    "            print(formula)\n",
    "            continue\n",
    "        break\n",
    "\n",
    "    return formula, interpretation"
   ]
  },
  {
   "cell_type": "code",
   "execution_count": 153,
   "id": "6ed1fa22",
   "metadata": {},
   "outputs": [
    {
     "name": "stdout",
     "output_type": "stream",
     "text": [
      "pure - Setting X to True\n",
      "pure - Setting ~Y to False\n"
     ]
    },
    {
     "data": {
      "text/plain": [
       "(BigAnd(subformulae=(Or(first=Symbol(label='Z'), second=Neg(subformula=Symbol(label='Z'), label='~')),)),\n",
       " {Symbol(label='X'): True, Symbol(label='Y'): False})"
      ]
     },
     "execution_count": 153,
     "metadata": {},
     "output_type": "execute_result"
    }
   ],
   "source": [
    "pure_literal_rule(fu)"
   ]
  },
  {
   "cell_type": "code",
   "execution_count": 150,
   "id": "29094750",
   "metadata": {},
   "outputs": [
    {
     "name": "stdout",
     "output_type": "stream",
     "text": [
      "(X /\\ (X \\/ ~Y) /\\ (~X \\/ Y \\/ Z \\/ ~Z))\n",
      "unit - Setting X to True\n",
      "(~X \\/ Y \\/ Z \\/ ~Z)\n",
      "pure - Setting ~X to False\n",
      "pure - Setting Y to True\n",
      "pure - Setting Z to True\n",
      "1\n"
     ]
    },
    {
     "data": {
      "text/plain": [
       "(BigAnd(subformulae=()),\n",
       " {Symbol(label='X'): False, Symbol(label='Y'): True, Symbol(label='Z'): True})"
      ]
     },
     "execution_count": 150,
     "metadata": {},
     "output_type": "execute_result"
    }
   ],
   "source": [
    "simplify(fs)"
   ]
  }
 ],
 "metadata": {
  "kernelspec": {
   "display_name": "Python 3 (ipykernel)",
   "language": "python",
   "name": "python3"
  },
  "language_info": {
   "codemirror_mode": {
    "name": "ipython",
    "version": 3
   },
   "file_extension": ".py",
   "mimetype": "text/x-python",
   "name": "python",
   "nbconvert_exporter": "python",
   "pygments_lexer": "ipython3",
   "version": "3.11.2"
  }
 },
 "nbformat": 4,
 "nbformat_minor": 5
}
