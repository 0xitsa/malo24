{
 "cells": [
  {
   "cell_type": "code",
   "execution_count": 1,
   "id": "e9753dc8",
   "metadata": {},
   "outputs": [],
   "source": [
    "from assignment import *\n",
    "from propositional import *\n",
    "from util import *"
   ]
  },
  {
   "cell_type": "code",
   "execution_count": 2,
   "id": "c35d7ca6",
   "metadata": {},
   "outputs": [],
   "source": [
    "sudoku = (\n",
    "        (None, None,    5, None, None, None, None, None, None),\n",
    "        (None, None, None, None, None, None, None, None, None),\n",
    "        (None, None,    7, None, None, None, None, None, None),\n",
    "        (None, None, None, None, None, None, None, None, None),\n",
    "        (None, None, None, None,    3, None, None, None, None),\n",
    "        (None, None, None, None, None, None, None, None, None),\n",
    "        (None, None, None, None, None, None, None, None, None),\n",
    "        (None, None, None, None, None,    8, None, None, None),\n",
    "        (None, None, None, None, None, None, None, None, None),\n",
    "    )"
   ]
  },
  {
   "cell_type": "code",
   "execution_count": 12,
   "id": "9a7784c1",
   "metadata": {},
   "outputs": [],
   "source": [
    "def disj_parser(farr):\n",
    "    if isinstance(farr, str):\n",
    "        farr = farr.split('\\\\/')\n",
    "    if len(farr) == 1:\n",
    "        return farr[0]\n",
    "    else:\n",
    "        p1 = farr.pop()\n",
    "        return Or(p1, disj_parser(farr))        "
   ]
  },
  {
   "cell_type": "code",
   "execution_count": 13,
   "id": "34e8330d",
   "metadata": {},
   "outputs": [],
   "source": [
    "def conj_parser(farr):\n",
    "    if len(farr) == 1:\n",
    "        return farr[0]\n",
    "    else:\n",
    "        p1 = farr.pop()\n",
    "        return And(p1, conj_parser(farr))"
   ]
  },
  {
   "cell_type": "code",
   "execution_count": 27,
   "id": "d05930b6",
   "metadata": {},
   "outputs": [],
   "source": [
    "def to_nnf_neg(formula):\n",
    "    sub = formula.subformula\n",
    "    if type(sub).__name__ == 'Or':\n",
    "        corr = And(Neg(sub.first), Neg(sub.second))\n",
    "    elif type(sub).__name__ == 'And':\n",
    "        corr = Or(Neg(sub.first), Neg(sub.second))\n",
    "    elif type(sub).__name__ == 'Impl':\n",
    "        corr = to_nnf_neg(Neg(to_nnf_impl(sub)))\n",
    "    elif type(sub).__name__ == 'Neg':\n",
    "        corr = sub.subformula\n",
    "    elif type(sub).__name__ == 'Symbol':\n",
    "        corr = formula\n",
    "        return corr\n",
    "    elif type(sub).__name__ == 'BigOr':\n",
    "        corrs = [to_nnf(Neg(subi)) for subi in sub.subformulae]\n",
    "        corr = BigAnd(corrs)\n",
    "    elif type(sub).__name__ == 'BigAnd':\n",
    "        corrs = [to_nnf(subi) for subi in sub.subformulae]\n",
    "        corr = BigOr(corrs)\n",
    "    elif type(sub).__name__ == 'bool' or type(formula).__name__ == 'Constant':\n",
    "        return formula\n",
    "    return to_nnf(corr)"
   ]
  },
  {
   "cell_type": "code",
   "execution_count": 28,
   "id": "ef8f1cb4",
   "metadata": {},
   "outputs": [],
   "source": [
    "def to_nnf_impl(formula):\n",
    "    corr = Or(to_nnf_neg(Neg(formula.first)), to_nnf(formula.second))\n",
    "    return to_nnf(corr)"
   ]
  },
  {
   "cell_type": "code",
   "execution_count": 29,
   "id": "3ead9021",
   "metadata": {},
   "outputs": [],
   "source": [
    "def to_nnf(formula):\n",
    "    #print('correcting :', formula)\n",
    "    if type(formula).__name__ == 'Neg':\n",
    "        corr = to_nnf_neg(formula)\n",
    "    if type(formula).__name__ == 'Or':\n",
    "        corr = Or(to_nnf(formula.first), to_nnf(formula.second))\n",
    "    elif type(formula).__name__ == 'And':\n",
    "        corr = And(to_nnf(formula.first), to_nnf(formula.second))\n",
    "    elif type(formula).__name__ == 'Impl':\n",
    "        corr = to_nnf_impl(formula)\n",
    "    elif type(formula).__name__ == 'Symbol':\n",
    "        corr = formula\n",
    "    elif type(formula).__name__ == 'BigOr':\n",
    "        corrs = [to_nnf(sub) for sub in formula.subformulae]\n",
    "        corr = BigOr(corrs)\n",
    "    elif type(formula).__name__ == 'BigAnd':\n",
    "        corrs = [to_nnf(sub) for sub in formula.subformulae]\n",
    "        corr = BigAnd(corrs)\n",
    "    elif type(formula).__name__ == 'bool' or type(formula).__name__ == 'Constant':\n",
    "        return formula\n",
    "    #print('correctiON :', corr)\n",
    "    return corr"
   ]
  },
  {
   "cell_type": "code",
   "execution_count": 5,
   "id": "393e97cb",
   "metadata": {},
   "outputs": [],
   "source": [
    "def to_dnf(formula):\n",
    "    if type(formula).__name__ == 'Symbol' or type(formula).__name__ == 'bool':\n",
    "        return formula\n",
    "    elif type(formula).__name__ == 'Neg':\n",
    "        corr = Neg(to_dnf(formula.subformula))\n",
    "    elif type(formula).__name__ == 'And':\n",
    "        corr = BigAnd([to_dnf(subs) for subs in formula.subformulae])\n",
    "    elif type(formula).__name__ == 'Or':\n",
    "        corr = BigOr([to_dnf(subs) for subs in formula.subformulae])"
   ]
  },
  {
   "cell_type": "code",
   "execution_count": 6,
   "id": "640456e5",
   "metadata": {},
   "outputs": [
    {
     "name": "stdout",
     "output_type": "stream",
     "text": [
      "~(~(A \\/ B) \\/ ~(A -> B))\n"
     ]
    }
   ],
   "source": [
    "form = Neg(BigOr(subformulae=[Neg(Or(Symbol('A'), Symbol('B'))), Neg(Impl(Symbol('A'), Symbol('B')))]))\n",
    "print(form)"
   ]
  },
  {
   "cell_type": "code",
   "execution_count": 25,
   "id": "2ce9ef2a",
   "metadata": {},
   "outputs": [],
   "source": [
    "form = Impl(first=And(first=Neg(Symbol('P')), second=Neg(Impl(first=Or(first=Symbol('P'), second=Symbol('Q')), second=Symbol('P')))), second=False)"
   ]
  },
  {
   "cell_type": "code",
   "execution_count": 30,
   "id": "ecc4e066",
   "metadata": {},
   "outputs": [
    {
     "name": "stdout",
     "output_type": "stream",
     "text": [
      "((~P /\\ ~((P \\/ Q) -> P)) -> False)\n"
     ]
    }
   ],
   "source": [
    "print(form)"
   ]
  },
  {
   "cell_type": "code",
   "execution_count": 7,
   "id": "f5b6cf6f",
   "metadata": {},
   "outputs": [
    {
     "data": {
      "text/plain": [
       "'Neg'"
      ]
     },
     "execution_count": 7,
     "metadata": {},
     "output_type": "execute_result"
    }
   ],
   "source": [
    "type(form).__name__"
   ]
  },
  {
   "cell_type": "code",
   "execution_count": 61,
   "id": "1be98115",
   "metadata": {},
   "outputs": [
    {
     "name": "stdout",
     "output_type": "stream",
     "text": [
      "((P \\/ ((~P /\\ ~Q) \\/ P)) \\/ False)\n"
     ]
    }
   ],
   "source": [
    "corr = to_nnf(form)\n",
    "print(corr)"
   ]
  },
  {
   "cell_type": "code",
   "execution_count": 49,
   "id": "b23ead73",
   "metadata": {},
   "outputs": [
    {
     "name": "stdout",
     "output_type": "stream",
     "text": [
      "(P \\/ ((~P /\\ ~Q) \\/ P))\n"
     ]
    }
   ],
   "source": [
    "print(corr.first)"
   ]
  },
  {
   "cell_type": "code",
   "execution_count": 34,
   "id": "154994ca",
   "metadata": {},
   "outputs": [],
   "source": [
    "clauses = []"
   ]
  },
  {
   "cell_type": "code",
   "execution_count": 67,
   "id": "6e6d9f77",
   "metadata": {},
   "outputs": [
    {
     "data": {
      "text/plain": [
       "'Or'"
      ]
     },
     "execution_count": 67,
     "metadata": {},
     "output_type": "execute_result"
    }
   ],
   "source": [
    "type(corr).__name__"
   ]
  },
  {
   "cell_type": "code",
   "execution_count": 68,
   "id": "d07b513f",
   "metadata": {},
   "outputs": [
    {
     "data": {
      "text/plain": [
       "propositional.Or"
      ]
     },
     "execution_count": 68,
     "metadata": {},
     "output_type": "execute_result"
    }
   ],
   "source": [
    "type(corr.first)"
   ]
  },
  {
   "cell_type": "code",
   "execution_count": 69,
   "id": "b143b6b5",
   "metadata": {},
   "outputs": [
    {
     "data": {
      "text/plain": [
       "propositional.Symbol"
      ]
     },
     "execution_count": 69,
     "metadata": {},
     "output_type": "execute_result"
    }
   ],
   "source": [
    "type(corr.first.first)"
   ]
  },
  {
   "cell_type": "code",
   "execution_count": 70,
   "id": "be2eb83d",
   "metadata": {},
   "outputs": [
    {
     "data": {
      "text/plain": [
       "propositional.Or"
      ]
     },
     "execution_count": 70,
     "metadata": {},
     "output_type": "execute_result"
    }
   ],
   "source": [
    "type(corr.first.second)"
   ]
  },
  {
   "cell_type": "code",
   "execution_count": 71,
   "id": "c796c7ba",
   "metadata": {},
   "outputs": [
    {
     "data": {
      "text/plain": [
       "propositional.And"
      ]
     },
     "execution_count": 71,
     "metadata": {},
     "output_type": "execute_result"
    }
   ],
   "source": [
    "type(corr.first.second.first)"
   ]
  },
  {
   "cell_type": "code",
   "execution_count": null,
   "id": "0b45d6e4",
   "metadata": {},
   "outputs": [],
   "source": []
  },
  {
   "cell_type": "code",
   "execution_count": 144,
   "id": "4e110a7c",
   "metadata": {},
   "outputs": [],
   "source": [
    "def clause_maker(formula):\n",
    "    el1 = formula.first\n",
    "    el2 = formula.second\n",
    "    \n",
    "    if type(el1).__name__ in ['Symbol', 'Constant', 'bool', 'Or'] and type(el2).__name__ in ['Symbol', 'Constant', 'bool', 'Or']:\n",
    "        corr = BigOr(Or(el1.first, el2), Or(el1.second, el2))\n",
    "    #elif type(el1).__name__ == 'Or':\n",
    "        \n",
    "    #if type(el1.__name__ == 'Or'):\n",
    "    #if type(el1.__name__ == 'Or'):\n",
    "    #if type(el1.__name__ == 'Or'):\n",
    "            \n",
    "    elif type(el2).__name__ == 'And':\n",
    "        corr = And(Or(el1, el2.first), Or(el1, el2.second))\n",
    "    \n",
    "    return clause_maker(corr)"
   ]
  },
  {
   "cell_type": "code",
   "execution_count": 197,
   "id": "335b4f45",
   "metadata": {},
   "outputs": [],
   "source": [
    "def neg_checker(formula):\n",
    "    print(f'neg checking: {formula}')\n",
    "    if type(formula.subformula) == 'BigAnd':\n",
    "        corr = BigOr([neg_checker(Neg(el)) for el in formula.subformula.subformulae])\n",
    "    elif type(formula.subformula) == 'BigOr':\n",
    "        corr = BigAnd([neg_checker(Neg(el)) for el in formula.subformula.subformulae])\n",
    "    elif type(formula.subformula).__name__ == 'And':\n",
    "        corr = Or(neg_checker(Neg(formula.subformula.first)), neg_checker(Neg(formula.subformula.second)))\n",
    "    elif type(formula.subformula).__name__ == 'Or':\n",
    "        corr = And(neg_checker(Neg(formula.subformula.first)), neg_checker(Neg(formula.subformula.second)))\n",
    "    elif type(formula.subformula).__name__ == 'Neg':\n",
    "        corr = formula.subformula.subformula\n",
    "    else:\n",
    "        corr = formula\n",
    "    print(f'neg correction: {corr}')    \n",
    "    return corr\n",
    "    "
   ]
  },
  {
   "cell_type": "code",
   "execution_count": 209,
   "id": "92ec9ea0",
   "metadata": {},
   "outputs": [],
   "source": [
    "def to_cnf(formula):\n",
    "    print(f'correcting: {formula}')\n",
    "    clauses = []\n",
    "    if type(formula).__name__ == 'Or':\n",
    "        corr = to_cnf_Or(formula)\n",
    "    elif type(formula).__name__ == 'And':\n",
    "        corr, clauses = to_cnf_And(formula, clauses)\n",
    "    elif type(formula).__name__ == 'BigAnd':\n",
    "        corr, clauses = to_cnf_And(formula, clauses)\n",
    "    elif type(formula).__name__ == 'BigOr':\n",
    "        corr = to_cnf_Or(formula)\n",
    "    elif type(formula).__name__ == 'Neg':\n",
    "        if type(formula.subformula).__name__ not in ['Symbol', 'Constant', 'bool']:\n",
    "            corr = to_cnf(neg_checker(formula))\n",
    "        else:\n",
    "            corr = formula\n",
    "    else:\n",
    "        corr = formula\n",
    "    print(f'correction*: {corr}')\n",
    "    return corr"
   ]
  },
  {
   "cell_type": "code",
   "execution_count": 229,
   "id": "f84d33cb",
   "metadata": {},
   "outputs": [],
   "source": [
    "def to_cnf_And(formula, cl):\n",
    "    print(f'correcting AND: {formula}')\n",
    "    try:\n",
    "        el1 = formula.first\n",
    "        el2 = formula.second\n",
    "        if type(el1).__name__ not in ['Symbol', 'Constant', 'bool', 'Neg'] and type(el2).__name__ not in ['Neg', 'Symbol', 'Constant', 'bool']:\n",
    "            corr = formula\n",
    "        elif type(el1).__name__ == 'Or' and type(el2).__name__ != 'Or':\n",
    "            corr = BigOr(BigAnd(el1.first, el2), And(el1.second, el2))\n",
    "        elif type(el2).__name__ == 'Or' and type(el1).__name__ != 'Or':\n",
    "            corr = Or(And(el1, el2.first), And(el1, el2.second))\n",
    "        elif type(el1).__name__ == 'And' or type(el2).__name__ == 'And':\n",
    "            corr = BigAnd([to_cnf(el1), to_cnf(el2)])\n",
    "        else:\n",
    "            print('nothing to do')\n",
    "            corr = formula\n",
    "    except:\n",
    "        if type(formula).__name__ == 'BigAnd':\n",
    "            for el in formula.subformulae:\n",
    "                if type(el).__name__ == 'BigAnd':\n",
    "                    formula.subformulae.extend(el.subformulae)\n",
    "                    formula.subformulae.remove(el)\n",
    "                if type(el).__name__ == 'Or':\n",
    "                    corr = BigOr([BigAnd(formula.subformulae[:idx] + formula.subformulae[1+idx:] + [el.first]), BigAnd(formula.subformulae[:idx] + formula.subformulae[1+idx:] + [el.second])])\n",
    "                    break\n",
    "                if type(el).__name__ == 'BigOr':\n",
    "                    cl = []\n",
    "                    for subel in el.subformulae:\n",
    "                        cl.extend(BigOr(formula.subformulae[:idx] + formula.subformulae[1+idx:] + [subel]))\n",
    "                    corr = BigAnd([to_cnf(c) for c in cl])\n",
    "                    break\n",
    "            corr = formula\n",
    "            \n",
    "    finally:\n",
    "        print(f'correction* AND: {corr} \\n  {cl}')\n",
    "        return to_cnf(corr), cl\n",
    "        "
   ]
  },
  {
   "cell_type": "code",
   "execution_count": 232,
   "id": "b1d3f3f0",
   "metadata": {},
   "outputs": [],
   "source": [
    "def to_cnf_Or(formula):\n",
    "    print(f'correcting OR: {formula}')\n",
    "    try:\n",
    "        el1 = formula.first\n",
    "        el2 = formula.second\n",
    "        print(type(el1), type(el2))\n",
    "        if type(el1).__name__ in ['Neg', 'Symbol', 'Constant', 'bool'] and type(el2).__name__ in ['Neg', 'Symbol', 'Constant', 'bool']:\n",
    "            corr = BigOr(subformulae=[el1, el2])\n",
    "        elif (type(el1).__name__ == 'And' and type(el2).__name__ != 'And'):\n",
    "            corr = BigAnd(subformulae=[BigOr([el1.first, el2]), BigOr([el1.second, el2])])\n",
    "        elif type(el1).__name__ == 'BigAnd' and type(el2).__name__ != 'And':\n",
    "            corr = BigAnd([BigOr(el1.subformulae.extend(el2)), BigOr(el1.second.extend(el2))])\n",
    "        elif type(el2).__name__ == 'And' and type(el1).__name__ != 'And':\n",
    "            corr = BigAnd([BigOr([el1, el2.first]), BigOr([el1, el2.second])])\n",
    "        elif type(el2).__name__ == 'BigAnd' and type(el1).__name__ != 'And':\n",
    "            corr = BigAnd([BigOr(el2.subformulae.extend(el1)), BigOr(el2.second.extend(el1))])\n",
    "        elif type(el2).__name__ == 'And' and type(el1).__name__ == 'And':\n",
    "            corr = BigOr([el1, el2])\n",
    "        else:\n",
    "            print('somehow ended up here')\n",
    "            corr = BigOr([to_cnf(el1), to_cnf(el2)])\n",
    "    except Exception as e:\n",
    "        print(e)\n",
    "        if type(formula).__name__ == 'BigOr':\n",
    "            for idx,el in enumerate(formula.subformulae):\n",
    "                if type(el).__name__ == 'And':\n",
    "                    corr = BigAnd([BigOr(formula.subformulae[:idx] + formula.subformulae[1+idx:] + [el.first]), BigOr(formula.subformulae[:idx] + formula.subformulae[1+idx:] + [el.second])])\n",
    "                    break\n",
    "                if type(el).__name__ == 'BigAnd':\n",
    "                    cl = []\n",
    "                    for subel in el.subformulae:\n",
    "                        cl.extend(BigOr(formula.subformulae[:idx] + formula.subformulae[1+idx:] + [subel]))\n",
    "                    corr = BigAnd([to_cnf(c) for c in cl])\n",
    "                    break\n",
    "        else:\n",
    "            print('valid clause')\n",
    "            corr = formula\n",
    "    print(f'correction* OR: {corr}')\n",
    "    return to_cnf(corr)"
   ]
  },
  {
   "cell_type": "code",
   "execution_count": 11,
   "id": "a511d3f9",
   "metadata": {},
   "outputs": [],
   "source": [
    "def to_dnf(formula):\n",
    "    if type(formula).__name__ == 'Symbol' or type(formula).__name__ == 'bool':\n",
    "        return formula\n",
    "    elif type(formula).__name__ == 'Neg':\n",
    "        return formula\n",
    "    elif type(formula).__name__ == 'And':\n",
    "        sub_dnfs = [to_dnf(subs) for subs in formula.subformulae]\n",
    "        dnf_clauses = []\n",
    "        for sub_dnf in sub_dnfs:\n",
    "            if type(sub_dnf).__name__ == 'BigOr':\n",
    "                dnf_clauses.extend(sub_dnf.subformulae)\n",
    "            else:\n",
    "                dnf_clauses.append(sub_dnf)\n",
    "        return BigAnd(dnf_clauses)\n",
    "    elif type(formula).__name__ == 'Or':\n",
    "        dnf_clauses = []\n",
    "        for subs in formula.subformulae:\n",
    "            sub_dnf = to_dnf(subs)\n",
    "            if type(sub_dnf).__name__ == 'BigAnd':\n",
    "                dnf_clauses.extend(sub_dnf.subformulae)\n",
    "            else:\n",
    "                dnf_clauses.append(sub_dnf)\n",
    "        return BigOr(dnf_clauses)\n"
   ]
  },
  {
   "cell_type": "code",
   "execution_count": null,
   "id": "4a9d8645",
   "metadata": {},
   "outputs": [],
   "source": []
  }
 ],
 "metadata": {
  "kernelspec": {
   "display_name": "Python 3 (ipykernel)",
   "language": "python",
   "name": "python3"
  },
  "language_info": {
   "codemirror_mode": {
    "name": "ipython",
    "version": 3
   },
   "file_extension": ".py",
   "mimetype": "text/x-python",
   "name": "python",
   "nbconvert_exporter": "python",
   "pygments_lexer": "ipython3",
   "version": "3.11.2"
  }
 },
 "nbformat": 4,
 "nbformat_minor": 5
}
