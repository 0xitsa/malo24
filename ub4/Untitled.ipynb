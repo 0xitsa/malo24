{
 "cells": [
  {
   "cell_type": "code",
   "execution_count": 215,
   "id": "408161f2",
   "metadata": {},
   "outputs": [],
   "source": [
    "from propositional import *\n",
    "import logging\n",
    "logging.basicConfig(handlers=[logging.FileHandler('log.log', mode='w'),], level=logging.DEBUG, format='%(asctime)s - %(name)s - %(levelname)s - %(message)s')"
   ]
  },
  {
   "cell_type": "code",
   "execution_count": 21,
   "id": "17bd574c",
   "metadata": {},
   "outputs": [],
   "source": [
    "from propositional import CNF, BigAnd, BigOr, Interpretation, LiteralFormula, Symbol\n",
    "from util import *\n",
    "\n",
    "X = Symbol(\"X\")"
   ]
  },
  {
   "cell_type": "code",
   "execution_count": 25,
   "id": "02a6d8ca",
   "metadata": {},
   "outputs": [],
   "source": [
    "@custom_test(BigAnd(BigOr(X)), BigAnd(BigOr(X)))\n",
    "@custom_test(Neg(BigAnd([X, Symbol(\"Y\")])), BigOr([Neg(X), Neg(Symbol(\"Y\"))]))\n",
    "@custom_test(Neg(Neg(X)), X)\n",
    "@custom_test(Neg(Neg(Neg(X))), Neg(X))\n",
    "def neg_checker(formula):\n",
    "    if type(formula).__name__ != 'Neg': return formula\n",
    "    if type(formula.subformula).__name__ == 'BigAnd':\n",
    "        corr = BigOr([neg_checker(Neg(el)) for el in formula.subformula.subformulae])\n",
    "    elif type(formula.subformula).__name__ == 'BigOr':\n",
    "        corr = BigAnd([neg_checker(Neg(el)) for el in formula.subformula.subformulae])\n",
    "    elif type(formula.subformula).__name__ == 'And':\n",
    "        corr = BigOr([neg_checker(Neg(formula.subformula.first)), neg_checker(Neg(formula.subformula.second))])\n",
    "    elif type(formula.subformula).__name__ == 'Or':\n",
    "        corr = BigAnd([neg_checker(Neg(formula.subformula.first)), neg_checker(Neg(formula.subformula.second))])\n",
    "    elif type(formula.subformula).__name__ == 'Neg':\n",
    "        corr = neg_checker(formula.subformula.subformula)\n",
    "    elif type(formula.subformula).__name__ == 'bool':\n",
    "        return not formula\n",
    "    else: return formula\n",
    "    return corr"
   ]
  },
  {
   "cell_type": "code",
   "execution_count": 33,
   "id": "f5db10ce",
   "metadata": {},
   "outputs": [],
   "source": [
    "@custom_test(BigAnd(X, Symbol(\"Y\")), BigAnd((BigOr(X), BigOr(Symbol(\"Y\")))))\n",
    "@custom_test(BigAnd(BigOr(X)), BigAnd(BigOr(X)))\n",
    "@custom_test(BigAnd(Or(X, Symbol(\"Y\"))), BigAnd((X, Symbol(\"Y\"))))\n",
    "def make_clauses(formula):\n",
    "    if type(formula).__name__ != \"BigAnd\": raise TypeError(\"Unsupported formula type is not BigAnd!!!\")\n",
    "    new = []\n",
    "    for clause in formula:\n",
    "        if type(clause).__name__ == 'BigAnd' or type(clause).__name__ == 'And' or type(clause).__name__ == 'Impl': raise TypeError(\"Unsupported clause type, formula should be in CNF dummy :)\")\n",
    "        elif type(clause).__name__ == 'BigOr': new.append(clause)\n",
    "        elif type(clause).__name__ == 'Symbol' or type(clause).__name__ == 'Constant' or type(clause).__name__ == 'bool': new.append(BigOr([clause,]))\n",
    "        elif type(clause).__name__ == \"Neg\": new.append(BigOr([neg_checker(clause),]))\n",
    "        elif type(clause).__name__ == \"Or\": new.append(BigOr((clause.first, clause.second)))\n",
    "        else: raise TypeError(f\"Unknown type: {type(clause).__name__} - should it be handled?\")\n",
    "    nf = BigAnd(new)\n",
    "    return nf"
   ]
  },
  {
   "cell_type": "code",
   "execution_count": 72,
   "id": "6698ab70",
   "metadata": {},
   "outputs": [],
   "source": [
    "def get_literals(formula):\n",
    "    match formula:\n",
    "        case Symbol(s) | Neg(Symbol(s)):\n",
    "            yield formula\n",
    "        case Or(f1, f2) | And(f1, f2):\n",
    "            yield from get_literals(f1)\n",
    "            yield from get_literals(f2)\n",
    "        case Impl(f1, f2):\n",
    "            yield from get_literals(f1)\n",
    "            yield from get_literals(f2)\n",
    "        case BigOr(subforms) | BigAnd(subforms):\n",
    "            for i in subforms:\n",
    "                yield from get_literals(i)\n",
    "        case Constant():\n",
    "            pass  # Constants are not literals\n",
    "        case _:\n",
    "            raise TypeError(f\"Unsupported formula type: {type(formula)}\")\n"
   ]
  },
  {
   "cell_type": "code",
   "execution_count": 119,
   "id": "1e6a5342",
   "metadata": {},
   "outputs": [],
   "source": [
    "@custom_test(BigAnd(BigOr(X)), X)\n",
    "@custom_test(BigAnd((BigOr((Symbol(\"Y\"), Symbol(\"Z\"))), BigOr(X))), X)\n",
    "def choose_literal(formula: CNF) -> LiteralFormula:\n",
    "    from random import choice\n",
    "    clauses = formula.subformulae\n",
    "    \n",
    "    # if there is a unit clause, choose that\n",
    "    for c in clauses:\n",
    "        if len(list(get_literals(c))) == 1: return next(get_literals(c))\n",
    "    \n",
    "    c = choice(clauses)\n",
    "    lit = choice(list(get_literals(c)))\n",
    "    return lit"
   ]
  },
  {
   "cell_type": "code",
   "execution_count": 184,
   "id": "4adc04d3",
   "metadata": {},
   "outputs": [],
   "source": [
    "@custom_test(BigAnd(BigOr(X), BigOr(~X)), None)\n",
    "def dpll(formula: CNF) -> Interpretation | None:\n",
    "    logger = logging.getLogger(__name__)\n",
    "    logger.debug(f\"Starting dpll on: {formula}\")\n",
    "    interpretation: Interpretation = {}\n",
    "    formula, interpretation = _dpll(formula, interpretation)\n",
    "    logger.debug(f\"Result: \\n\\t{formula}\\n\\t{interpretation}\")\n",
    "    return interpretation\n",
    "    \n",
    "    ##\n",
    "    ### Base case: if the formula is empty, we have a satisfying interpretation\n",
    "    ##if len(clauses) == 0: return interpretation\n",
    "    ### Base case: if the formula contains an empty clause, it is unsatisfiable\n",
    "    ##if any(not clause.subformulae for clause in formula):\n",
    "    ##    return None\n",
    "##\n",
    "    ### Choose a literal from the formula\n",
    "    ##literal = choose_literal(formula)\n",
    "##\n",
    "    ### Recursively try assigning the literal to True\n",
    "    ##new_formula = BigAnd(BigOr(l for l in clause if l != literal.complement()) for clause in formula if literal not in clause)\n",
    "    ##new_interpretation = interpretation | _symbol_assignment(literal)\n",
    "    ##result = dpll(new_formula, new_interpretation)\n",
    "    ##if result is not None:\n",
    "    ##    return result\n",
    "##\n",
    "    ### Recursively try assigning the literal to False\n",
    "    ##new_formula = BigAnd(BigOr(l for l in clause if l != literal) for clause in formula if literal.complement() not in clause)\n",
    "    ##new_interpretation = interpretation | _symbol_assignment(literal.complement())\n",
    "    ##return dpll(new_formula, new_interpretation)"
   ]
  },
  {
   "cell_type": "code",
   "execution_count": 217,
   "id": "9e6175de",
   "metadata": {},
   "outputs": [],
   "source": [
    "def _dpll(formula, interpretation):\n",
    "    logger = logging.getLogger(__name__)\n",
    "    formula = make_clauses(formula)\n",
    "    clauses = list(formula.subformulae)\n",
    "    \n",
    "    # Base case: if the formula is empty, we have a satisfying interpretation\n",
    "    if len(clauses) == 0: \n",
    "        logger.info(f\"\\n\\tFormula satisfied\\n\\t\\t{formula}\\n\\t\\t{interpretation}\")\n",
    "        return formula, interpretation\n",
    "    \n",
    "    # Base case: if the formula contains an empty clause, it is unsatisfiable\n",
    "    if any(len(c.subformulae) == 0 for c in clauses):\n",
    "        logger.info(f\"\\n\\tFormula unsatisfiable\\n\\t\\t{formula}\\n\\t\\t{interpretation}\")\n",
    "        return formula, None\n",
    "    \n",
    "    # Choose a literal from the formula\n",
    "    literal = choose_literal(formula)\n",
    "    logger.info(f\"Picked literal: {literal}\")\n",
    "\n",
    "    # Recursively try assigning the literal to True\n",
    "    new_interpretation = _assign(interpretation, literal, True)\n",
    "    p1 = [c for c in clauses if literal not in list(get_literals(c)) and neg_checker(Neg(literal)) not in list(get_literals(c))]\n",
    "    p2 = [list(get_literals(c)) for c in clauses if neg_checker(Neg(literal)) in list(get_literals(c))]\n",
    "    for c in p2: c.remove(neg_checker(Neg(literal)))\n",
    "    p1.extend(p2)\n",
    "    new_formula = BigAnd([BigOr(c) for c in p1])\n",
    "    res_formula, res_interpretation = _dpll(new_formula, new_interpretation)\n",
    "    return res_formula, res_interpretation\n",
    "    \n",
    "##\n",
    "##    # Recursively try assigning the literal to False\n",
    "##    new_interpretation = _assign(interpretation, literal, False)\n",
    "##    p1 = [c for c in clauses if literal not in list(get_literals(c)) and neg_checker(Neg(literal)) not in list(get_literals(c))]\n",
    "##    p2 = [list(get_literals(c)) for c in clauses if neg_checker(Neg(literal)) in list(get_literals(c))]\n",
    "##    for c in p2: c.remove(neg_checker(Neg(literal)))\n",
    "##    p1.extend(p2)\n",
    "##           \n",
    "##    new_formula = BigAnd(BigOr(l for l in clause if l != literal) for clause in formula if literal.complement() not in clause)\n",
    "##    new_interpretation = interpretation | _symbol_assignment(literal.complement())\n",
    "##    return dpll(new_formula, new_interpretation)"
   ]
  },
  {
   "cell_type": "code",
   "execution_count": 189,
   "id": "2898e2b0",
   "metadata": {},
   "outputs": [],
   "source": [
    "def _assign(interpretation, literal, val):\n",
    "    if type(literal).__name__ == 'Neg': ni = interpretation | {literal.subformula: not val}\n",
    "    if type(literal).__name__ == 'Symbol': ni = interpretation | {literal: val}\n",
    "    return ni   "
   ]
  },
  {
   "cell_type": "code",
   "execution_count": 226,
   "id": "2eb50c54",
   "metadata": {},
   "outputs": [],
   "source": [
    "f = BigAnd(Formula.parse(\"(X \\\\/ Y)\"), Formula.parse(\"(X \\\\/ ~Y)\"), Formula.parse(\"(Z \\\\/ ~Z)\"))\n",
    "f1 = BigAnd(BigOr(X))\n",
    "f2 = BigAnd(BigOr(X), BigOr(~X))\n",
    "f3 = BigAnd(BigOr(X), BigOr(~X), Formula.parse(\"(X \\\\/ Y)\"), Formula.parse(\"(X \\\\/ ~Y)\"))\n",
    "f4 = BigAnd(BigOr(~X), BigOr((~X, Symbol(\"Y\"), Symbol(\"Z\"))), Formula.parse(\"(X \\\\/ Y)\"), Formula.parse(\"(X \\\\/ ~Y)\"), X, Neg(Symbol(\"Y\")))\n",
    "f7 = BigAnd(BigOr(~X))"
   ]
  },
  {
   "cell_type": "code",
   "execution_count": null,
   "id": "9bf6dac1",
   "metadata": {},
   "outputs": [],
   "source": [
    "f5 = BigAnd((BigOr(X), BigOr(~X), Formula.parse(\"(X \\\\/ Y)\"), Formula.parse(\"(X \\\\/ ~Y)\"), BigOr()))\n",
    "f6 = BigAnd((BigOr((X, Symbol(\"Y\"), Symbol(\"Z\"))), BigOr((Neg(Symbol(\"Y\")), Symbol(\"Z\"))), BigOr(X, Neg(Symbol(\"Z\")))))\n",
    "f11 = BigAnd(BigOr(Symbol(\"X\"), Symbol(\"Y\"), Symbol(\"Z\")), BigOr(Neg(Symbol(\"Y\")), Symbol(\"Z\")), BigOr(Symbol(\"X\"), Neg(Symbol(\"Z\"))))\n",
    "f12 = BigAnd(BigOr(Symbol(\"A\"), Symbol(\"B\"), Symbol(\"X\")), BigOr(Neg(Symbol(\"B\")), Symbol(\"X\")), BigOr(Symbol(\"A\"), Neg(Symbol(\"X\"))))\n"
   ]
  },
  {
   "cell_type": "code",
   "execution_count": 342,
   "id": "a57e8388",
   "metadata": {},
   "outputs": [],
   "source": [
    "# gpt generated\n",
    "f11 = BigAnd(BigOr(Symbol(\"X\"), Symbol(\"Y\"), Symbol(\"Z\")), BigOr(Neg(Symbol(\"Y\")), Symbol(\"Z\")), BigOr(Symbol(\"X\"), Neg(Symbol(\"Z\"))))\n",
    "f12 = BigAnd(BigOr(Symbol(\"A\"), Symbol(\"B\"), Symbol(\"X\")), BigOr(Neg(Symbol(\"B\")), Symbol(\"X\")), BigOr(Symbol(\"A\"), Neg(Symbol(\"X\"))))\n",
    "f13 = BigAnd(BigOr(Symbol(\"Y\"), Symbol(\"Z\"), Symbol(\"A\")), BigOr(Neg(Symbol(\"Z\")), Symbol(\"A\")), BigOr(Symbol(\"Y\"), Neg(Symbol(\"A\"))))\n",
    "f14 = BigAnd(BigOr(Symbol(\"B\"), Symbol(\"X\"), Symbol(\"Y\")), BigOr(Neg(Symbol(\"X\")), Symbol(\"Y\")), BigOr(Symbol(\"B\"), Neg(Symbol(\"Y\"))))\n",
    "f15 = BigAnd(BigOr(Symbol(\"X\"), Symbol(\"A\"), Symbol(\"B\")), BigOr(Neg(Symbol(\"A\")), Symbol(\"B\")), BigOr(Symbol(\"X\"), Neg(Symbol(\"B\"))))"
   ]
  },
  {
   "cell_type": "code",
   "execution_count": 349,
   "id": "b9446ec9",
   "metadata": {
    "scrolled": true
   },
   "outputs": [
    {
     "ename": "NameError",
     "evalue": "name 'logging' is not defined",
     "output_type": "error",
     "traceback": [
      "\u001b[0;31m---------------------------------------------------------------------------\u001b[0m",
      "\u001b[0;31mNameError\u001b[0m                                 Traceback (most recent call last)",
      "Cell \u001b[0;32mIn [349], line 1\u001b[0m\n\u001b[0;32m----> 1\u001b[0m \u001b[43mdpll\u001b[49m\u001b[43m(\u001b[49m\u001b[43mf12\u001b[49m\u001b[43m)\u001b[49m\n",
      "File \u001b[0;32m~/Documents/uni/malo/4ub/Blatt 4/assignment.py:139\u001b[0m, in \u001b[0;36mdpll\u001b[0;34m(formula)\u001b[0m\n\u001b[1;32m    130\u001b[0m \u001b[38;5;250m\u001b[39m\u001b[38;5;124;03m\"\"\"The SAT solver DPLL.\u001b[39;00m\n\u001b[1;32m    131\u001b[0m \n\u001b[1;32m    132\u001b[0m \u001b[38;5;124;03mArgs:\u001b[39;00m\n\u001b[0;32m   (...)\u001b[0m\n\u001b[1;32m    135\u001b[0m \u001b[38;5;124;03m    A satisfying Interpretation if the formula is satisfiable. Or `None` if the formula is unsatisfiable.\u001b[39;00m\n\u001b[1;32m    136\u001b[0m \u001b[38;5;124;03m\"\"\"\u001b[39;00m\n\u001b[1;32m    138\u001b[0m interpretation: Interpretation \u001b[38;5;241m=\u001b[39m {}\n\u001b[0;32m--> 139\u001b[0m formula, interpretation \u001b[38;5;241m=\u001b[39m \u001b[43m_dpll\u001b[49m\u001b[43m(\u001b[49m\u001b[43mformula\u001b[49m\u001b[43m,\u001b[49m\u001b[43m \u001b[49m\u001b[43minterpretation\u001b[49m\u001b[43m)\u001b[49m\n\u001b[1;32m    141\u001b[0m \u001b[38;5;28;01mreturn\u001b[39;00m interpretation\n",
      "File \u001b[0;32m~/Documents/uni/malo/4ub/Blatt 4/assignment.py:98\u001b[0m, in \u001b[0;36m_dpll\u001b[0;34m(formula, interpretation)\u001b[0m\n\u001b[1;32m     97\u001b[0m \u001b[38;5;28;01mdef\u001b[39;00m \u001b[38;5;21m_dpll\u001b[39m(formula, interpretation):\n\u001b[0;32m---> 98\u001b[0m     logger \u001b[38;5;241m=\u001b[39m \u001b[43mlogging\u001b[49m\u001b[38;5;241m.\u001b[39mgetLogger(\u001b[38;5;18m__name__\u001b[39m)\n\u001b[1;32m     99\u001b[0m     formula \u001b[38;5;241m=\u001b[39m make_clauses(formula)\n\u001b[1;32m    100\u001b[0m     clauses \u001b[38;5;241m=\u001b[39m \u001b[38;5;28mlist\u001b[39m(formula\u001b[38;5;241m.\u001b[39msubformulae)\n",
      "\u001b[0;31mNameError\u001b[0m: name 'logging' is not defined"
     ]
    }
   ],
   "source": [
    "dpll(f12)"
   ]
  },
  {
   "cell_type": "code",
   "execution_count": 352,
   "id": "670abe13",
   "metadata": {},
   "outputs": [],
   "source": [
    "from assignment import dpll"
   ]
  },
  {
   "cell_type": "code",
   "execution_count": 351,
   "id": "3eaf3786",
   "metadata": {},
   "outputs": [
    {
     "ename": "NameError",
     "evalue": "name 'logging' is not defined",
     "output_type": "error",
     "traceback": [
      "\u001b[0;31m---------------------------------------------------------------------------\u001b[0m",
      "\u001b[0;31mNameError\u001b[0m                                 Traceback (most recent call last)",
      "Cell \u001b[0;32mIn [351], line 1\u001b[0m\n\u001b[0;32m----> 1\u001b[0m \u001b[43mdpll\u001b[49m\u001b[43m(\u001b[49m\u001b[43mf6\u001b[49m\u001b[43m)\u001b[49m\n",
      "File \u001b[0;32m~/Documents/uni/malo/4ub/Blatt 4/assignment.py:139\u001b[0m, in \u001b[0;36mdpll\u001b[0;34m(formula)\u001b[0m\n\u001b[1;32m    130\u001b[0m \u001b[38;5;250m\u001b[39m\u001b[38;5;124;03m\"\"\"The SAT solver DPLL.\u001b[39;00m\n\u001b[1;32m    131\u001b[0m \n\u001b[1;32m    132\u001b[0m \u001b[38;5;124;03mArgs:\u001b[39;00m\n\u001b[0;32m   (...)\u001b[0m\n\u001b[1;32m    135\u001b[0m \u001b[38;5;124;03m    A satisfying Interpretation if the formula is satisfiable. Or `None` if the formula is unsatisfiable.\u001b[39;00m\n\u001b[1;32m    136\u001b[0m \u001b[38;5;124;03m\"\"\"\u001b[39;00m\n\u001b[1;32m    138\u001b[0m interpretation: Interpretation \u001b[38;5;241m=\u001b[39m {}\n\u001b[0;32m--> 139\u001b[0m formula, interpretation \u001b[38;5;241m=\u001b[39m \u001b[43m_dpll\u001b[49m\u001b[43m(\u001b[49m\u001b[43mformula\u001b[49m\u001b[43m,\u001b[49m\u001b[43m \u001b[49m\u001b[43minterpretation\u001b[49m\u001b[43m)\u001b[49m\n\u001b[1;32m    141\u001b[0m \u001b[38;5;28;01mreturn\u001b[39;00m interpretation\n",
      "File \u001b[0;32m~/Documents/uni/malo/4ub/Blatt 4/assignment.py:98\u001b[0m, in \u001b[0;36m_dpll\u001b[0;34m(formula, interpretation)\u001b[0m\n\u001b[1;32m     97\u001b[0m \u001b[38;5;28;01mdef\u001b[39;00m \u001b[38;5;21m_dpll\u001b[39m(formula, interpretation):\n\u001b[0;32m---> 98\u001b[0m     logger \u001b[38;5;241m=\u001b[39m \u001b[43mlogging\u001b[49m\u001b[38;5;241m.\u001b[39mgetLogger(\u001b[38;5;18m__name__\u001b[39m)\n\u001b[1;32m     99\u001b[0m     formula \u001b[38;5;241m=\u001b[39m make_clauses(formula)\n\u001b[1;32m    100\u001b[0m     clauses \u001b[38;5;241m=\u001b[39m \u001b[38;5;28mlist\u001b[39m(formula\u001b[38;5;241m.\u001b[39msubformulae)\n",
      "\u001b[0;31mNameError\u001b[0m: name 'logging' is not defined"
     ]
    }
   ],
   "source": [
    "dpll(f6)"
   ]
  }
 ],
 "metadata": {
  "kernelspec": {
   "display_name": "Python 3 (ipykernel)",
   "language": "python",
   "name": "python3"
  },
  "language_info": {
   "codemirror_mode": {
    "name": "ipython",
    "version": 3
   },
   "file_extension": ".py",
   "mimetype": "text/x-python",
   "name": "python",
   "nbconvert_exporter": "python",
   "pygments_lexer": "ipython3",
   "version": "3.11.2"
  }
 },
 "nbformat": 4,
 "nbformat_minor": 5
}
