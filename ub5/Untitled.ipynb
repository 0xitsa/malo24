{
 "cells": [
  {
   "cell_type": "code",
   "execution_count": 43,
   "id": "5f3ea18f",
   "metadata": {},
   "outputs": [],
   "source": [
    "import logging\n",
    "import os"
   ]
  },
  {
   "cell_type": "code",
   "execution_count": 8,
   "id": "0c160957",
   "metadata": {},
   "outputs": [],
   "source": [
    "from first_order import *\n",
    "from typing_extensions import TypeVar\n",
    "from util import custom_test"
   ]
  },
  {
   "cell_type": "code",
   "execution_count": 2,
   "id": "13cbd971",
   "metadata": {},
   "outputs": [],
   "source": [
    "f, c, x = FunctionSymbol(\"F\", 1), FunctionSymbol(\"C\", 0), Variable(\"x\")\n",
    "some_interpretation = Interpretation(\n",
    "    Structure(range(10), {f: lambda n: n + 1, c: 5}),\n",
    "    {x: 3},\n",
    ")"
   ]
  },
  {
   "cell_type": "code",
   "execution_count": 3,
   "id": "2fba1947",
   "metadata": {},
   "outputs": [
    {
     "data": {
      "text/plain": [
       "Interpretation(structure=Structure(universe=range(0, 10), relations=mappingproxy({}), functions=mappingproxy({FunctionSymbol(name='F', arity=1): <function <lambda> at 0x7fff781939c0>, FunctionSymbol(name='C', arity=0): <function _constant_function.<locals>.<lambda> at 0x7fff78193a60>})), assignment={Variable(name='$x'): 3})"
      ]
     },
     "execution_count": 3,
     "metadata": {},
     "output_type": "execute_result"
    }
   ],
   "source": [
    "some_interpretation"
   ]
  },
  {
   "cell_type": "code",
   "execution_count": 5,
   "id": "d47a8bca",
   "metadata": {},
   "outputs": [
    {
     "ename": "NameError",
     "evalue": "name 'Any' is not defined",
     "output_type": "error",
     "traceback": [
      "\u001b[0;31m---------------------------------------------------------------------------\u001b[0m",
      "\u001b[0;31mNameError\u001b[0m                                 Traceback (most recent call last)",
      "Cell \u001b[0;32mIn [5], line 50\u001b[0m\n\u001b[1;32m     45\u001b[0m     \u001b[38;5;28;01melse\u001b[39;00m:\n\u001b[1;32m     46\u001b[0m         \u001b[38;5;28;01mraise\u001b[39;00m \u001b[38;5;167;01mTypeError\u001b[39;00m\n\u001b[1;32m     49\u001b[0m \u001b[38;5;129m@custom_test\u001b[39m(\u001b[38;5;28minput\u001b[39m\u001b[38;5;241m=\u001b[39m(f(x) \u001b[38;5;241m==\u001b[39m c, some_interpretation), output\u001b[38;5;241m=\u001b[39m\u001b[38;5;28;01mFalse\u001b[39;00m)\n\u001b[0;32m---> 50\u001b[0m \u001b[38;5;28;01mdef\u001b[39;00m \u001b[38;5;21mevaluate_atom\u001b[39m(atom: AtomicFormula, interpretation: Interpretation[\u001b[43mAny\u001b[49m]) \u001b[38;5;241m-\u001b[39m\u001b[38;5;241m>\u001b[39m \u001b[38;5;28mbool\u001b[39m:\n\u001b[1;32m     51\u001b[0m \u001b[38;5;250m    \u001b[39m\u001b[38;5;124;03m\"\"\"Evaluates an atomic formula to its truth value.\u001b[39;00m\n\u001b[1;32m     52\u001b[0m \n\u001b[1;32m     53\u001b[0m \u001b[38;5;124;03m    Args:\u001b[39;00m\n\u001b[0;32m   (...)\u001b[0m\n\u001b[1;32m     61\u001b[0m \u001b[38;5;124;03m        this function should return `False`.\u001b[39;00m\n\u001b[1;32m     62\u001b[0m \u001b[38;5;124;03m    \"\"\"\u001b[39;00m\n\u001b[1;32m     64\u001b[0m     \u001b[38;5;28;01massert\u001b[39;00m atom\u001b[38;5;241m.\u001b[39msymbols \u001b[38;5;241m<\u001b[39m\u001b[38;5;241m=\u001b[39m interpretation\u001b[38;5;241m.\u001b[39mstructure\u001b[38;5;241m.\u001b[39msymbols\n",
      "\u001b[0;31mNameError\u001b[0m: name 'Any' is not defined"
     ]
    }
   ],
   "source": [
    "\"\"\"Week 5 assignment.\"\"\"\n",
    "\n",
    "from first_order import AtomicFormula, FunctionSymbol, Interpretation, Structure, Term, Variable\n",
    "from typing_extensions import TypeVar\n",
    "from util import custom_test\n",
    "\n",
    "T = TypeVar(\"T\")\n",
    "\n",
    "f, c, x = FunctionSymbol(\"F\", 1), FunctionSymbol(\"C\", 0), Variable(\"x\")\n",
    "some_interpretation = Interpretation(\n",
    "    Structure(range(10), {f: lambda n: n + 1, c: 5}),\n",
    "    {x: 3},\n",
    ")\n",
    "\n",
    "\n",
    "def complicated_test(value: int) -> bool:\n",
    "    return True\n",
    "\n",
    "\n",
    "@custom_test((f(x), some_interpretation), 4)\n",
    "@custom_test((f(x), some_interpretation), [3, 4, 5])\n",
    "@custom_test((f(x), some_interpretation), complicated_test)\n",
    "def evaluate_term(term: Term, interpretation: Interpretation[T]) -> T:\n",
    "    \"\"\"Evaluates a term to the element of the universe defined by it and the interpretation.\n",
    "\n",
    "    Args:\n",
    "        term: An arbitrary term using the same signature as the structure and variables from the assignment.\n",
    "        interpretation: The corresponding interpretation.\n",
    "    Returns:\n",
    "        The value the term evaluates to.\n",
    "    Example:\n",
    "        Given `f(a, b)` and an interpretation where `f` is interpreted as addition and `a` and `b` as 1 and 2,\n",
    "        this function should return `3`.\n",
    "    \"\"\"\n",
    "\n",
    "    assert term.symbols <= interpretation.structure.symbols\n",
    "    assert term.variables <= interpretation.assignment.keys()\n",
    "\n",
    "    if isinstance(term, Variable):\n",
    "        return interpretation.assignment[term]\n",
    "    elif isinstance(term, FunctionTerm):\n",
    "        return interpretation.structure.functions[term.function](\n",
    "            *[evaluate_term(arg, interpretation) for arg in term.arguments]\n",
    "        )\n",
    "    else:\n",
    "        raise TypeError\n",
    "\n",
    "\n",
    "@custom_test(input=(f(x) == c, some_interpretation), output=False)\n",
    "def evaluate_atom(atom: AtomicFormula, interpretation: Interpretation[Any]) -> bool:\n",
    "    \"\"\"Evaluates an atomic formula to its truth value.\n",
    "\n",
    "    Args:\n",
    "        atom: An atomic formula (Equality, RelationFormula, or TruthConstant).\n",
    "        interpretation: An interpretation over the same signature as the atomic formula that also interprets all\n",
    "            variables occurring in it.\n",
    "    Returns:\n",
    "        The truth value of the atomic formula under the given interpretation.\n",
    "    Example:\n",
    "        Given `a == b` and an interpretation where `a` and `b` are interpreted as 1 and 2,\n",
    "        this function should return `False`.\n",
    "    \"\"\"\n",
    "\n",
    "    assert atom.symbols <= interpretation.structure.symbols\n",
    "    assert atom.free_variables <= interpretation.assignment.keys()\n",
    "\n",
    "    if isinstance(atom, TruthConstant):\n",
    "        return atom.value\n",
    "    elif isinstance(atom, Equality):\n",
    "        return evaluate_term(atom.first, interpretation) == evaluate_term(atom.second, interpretation)\n",
    "    elif isinstance(atom, RelationFormula):\n",
    "        return interpretation.structure.relations[atom.relation](\n",
    "            *[evaluate_term(arg, interpretation) for arg in atom.arguments]\n",
    "        )\n",
    "    else:\n",
    "        raise TypeError\n"
   ]
  },
  {
   "cell_type": "code",
   "execution_count": 21,
   "id": "7c6e7aae",
   "metadata": {},
   "outputs": [],
   "source": [
    "def evaluate_atom(atom, interpretation):\n",
    "    \"\"\"Evaluates an atomic formula to its truth value.\n",
    "\n",
    "    Args:\n",
    "        atom: An atomic formula (Equality, RelationFormula, or TruthConstant).\n",
    "        interpretation: An interpretation over the same signature as the atomic formula that also interprets all\n",
    "            variables occurring in it.\n",
    "    Returns:\n",
    "        The truth value of the atomic formula under the given interpretation.\n",
    "    Example:\n",
    "        Given `a == b` and an interpretation where `a` and `b` are interpreted as 1 and 2,\n",
    "        this function should return `False`.\n",
    "    \"\"\"\n",
    "\n",
    "    assert atom.symbols <= interpretation.structure.symbols\n",
    "    assert atom.free_variables <= interpretation.assignment.keys()\n",
    "\n",
    "    if isinstance(atom, TruthConstant):\n",
    "        return atom.value\n",
    "    elif isinstance(atom, Equality):\n",
    "        return evaluate_term(atom.first, interpretation) == evaluate_term(atom.second, interpretation)\n",
    "    elif isinstance(atom, RelationFormula):\n",
    "        return interpretation.structure.relations[atom.relation](\n",
    "            *[evaluate_term(arg, interpretation) for arg in atom.arguments]\n",
    "        )\n",
    "    else:\n",
    "        raise TypeError\n"
   ]
  },
  {
   "cell_type": "code",
   "execution_count": 9,
   "id": "7d66fc6b",
   "metadata": {},
   "outputs": [],
   "source": [
    "def evaluate_term(term, interpretation):\n",
    "    \"\"\"Evaluates a term to the element of the universe defined by it and the interpretation.\n",
    "\n",
    "    Args:\n",
    "        term: An arbitrary term using the same signature as the structure and variables from the assignment.\n",
    "        interpretation: The corresponding interpretation.\n",
    "    Returns:\n",
    "        The value the term evaluates to.\n",
    "    Example:\n",
    "        Given `f(a, b)` and an interpretation where `f` is interpreted as addition and `a` and `b` as 1 and 2,\n",
    "        this function should return `3`.\n",
    "    \"\"\"\n",
    "\n",
    "    assert term.symbols <= interpretation.structure.symbols\n",
    "    assert term.variables <= interpretation.assignment.keys()\n",
    "\n",
    "    if isinstance(term, Variable):\n",
    "        return interpretation.assignment[term]\n",
    "    elif isinstance(term, FunctionTerm):\n",
    "        return interpretation.structure.functions[term.function](\n",
    "            *[evaluate_term(arg, interpretation) for arg in term.arguments]\n",
    "        )\n",
    "    else:\n",
    "        raise TypeError\n"
   ]
  },
  {
   "cell_type": "code",
   "execution_count": 13,
   "id": "f4e89db5",
   "metadata": {},
   "outputs": [
    {
     "data": {
      "text/plain": [
       "4"
      ]
     },
     "execution_count": 13,
     "metadata": {},
     "output_type": "execute_result"
    }
   ],
   "source": [
    "evaluate_term(f(x), some_interpretation)"
   ]
  },
  {
   "cell_type": "code",
   "execution_count": null,
   "id": "282bce7e",
   "metadata": {},
   "outputs": [],
   "source": []
  },
  {
   "cell_type": "code",
   "execution_count": 14,
   "id": "57d944c1",
   "metadata": {},
   "outputs": [],
   "source": [
    "t, v1, v2 = FunctionSymbol(\"Add\", 2), Variable(\"v1\"), Variable(\"v2\")"
   ]
  },
  {
   "cell_type": "code",
   "execution_count": 37,
   "id": "6d775446",
   "metadata": {},
   "outputs": [],
   "source": [
    "test = Interpretation(\n",
    "    Structure(range(10), {r: lambda n,m: n+1 == m, t: lambda a,b: a+b}),\n",
    "    {v1: 2, v2: 3}\n",
    ")"
   ]
  },
  {
   "cell_type": "code",
   "execution_count": 27,
   "id": "06541b7e",
   "metadata": {},
   "outputs": [],
   "source": [
    "r = RelationSymbol(\"R\", 2)"
   ]
  },
  {
   "cell_type": "code",
   "execution_count": 48,
   "id": "b81a661c",
   "metadata": {},
   "outputs": [
    {
     "data": {
      "text/plain": [
       "True"
      ]
     },
     "execution_count": 48,
     "metadata": {},
     "output_type": "execute_result"
    }
   ],
   "source": [
    "evaluate_atom(TruthConstant(1), test)"
   ]
  },
  {
   "cell_type": "code",
   "execution_count": 41,
   "id": "6ccd0ff6",
   "metadata": {},
   "outputs": [
    {
     "data": {
      "text/plain": [
       "first_order.FunctionTerm"
      ]
     },
     "execution_count": 41,
     "metadata": {},
     "output_type": "execute_result"
    }
   ],
   "source": [
    "type(t(v1, v2))"
   ]
  },
  {
   "cell_type": "code",
   "execution_count": 32,
   "id": "bac2d464",
   "metadata": {},
   "outputs": [
    {
     "data": {
      "text/plain": [
       "6"
      ]
     },
     "execution_count": 32,
     "metadata": {},
     "output_type": "execute_result"
    }
   ],
   "source": [
    "evaluate_term(t(v1,v2), test)"
   ]
  }
 ],
 "metadata": {
  "kernelspec": {
   "display_name": "Python 3 (ipykernel)",
   "language": "python",
   "name": "python3"
  },
  "language_info": {
   "codemirror_mode": {
    "name": "ipython",
    "version": 3
   },
   "file_extension": ".py",
   "mimetype": "text/x-python",
   "name": "python",
   "nbconvert_exporter": "python",
   "pygments_lexer": "ipython3",
   "version": "3.11.2"
  }
 },
 "nbformat": 4,
 "nbformat_minor": 5
}
