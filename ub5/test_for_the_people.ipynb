{
 "cells": [
  {
   "cell_type": "code",
   "execution_count": 1,
   "id": "88786860",
   "metadata": {},
   "outputs": [],
   "source": [
    "from first_order import *\n",
    "from typing_extensions import TypeVar\n",
    "from util import custom_test"
   ]
  },
  {
   "cell_type": "code",
   "execution_count": 2,
   "id": "02352204",
   "metadata": {},
   "outputs": [],
   "source": [
    "f, c, x = FunctionSymbol(\"F\", 1), FunctionSymbol(\"C\", 0), Variable(\"x\")\n",
    "some_interpretation = Interpretation(\n",
    "    Structure(range(10), {f: lambda n: n + 1, c: 5}),\n",
    "    {x: 3},\n",
    ")"
   ]
  },
  {
   "cell_type": "code",
   "execution_count": 3,
   "id": "926b2fa7",
   "metadata": {},
   "outputs": [],
   "source": [
    "def evaluate_atom(atom, interpretation):\n",
    "    \"\"\"Evaluates an atomic formula to its truth value.\n",
    "\n",
    "    Args:\n",
    "        atom: An atomic formula (Equality, RelationFormula, or TruthConstant).\n",
    "        interpretation: An interpretation over the same signature as the atomic formula that also interprets all\n",
    "            variables occurring in it.\n",
    "    Returns:\n",
    "        The truth value of the atomic formula under the given interpretation.\n",
    "    Example:\n",
    "        Given `a == b` and an interpretation where `a` and `b` are interpreted as 1 and 2,\n",
    "        this function should return `False`.\n",
    "    \"\"\"\n",
    "\n",
    "    assert atom.symbols <= interpretation.structure.symbols\n",
    "    assert atom.free_variables <= interpretation.assignment.keys()\n",
    "\n",
    "    if isinstance(atom, TruthConstant):\n",
    "        return atom.value\n",
    "    elif isinstance(atom, Equality):\n",
    "        return evaluate_term(atom.first, interpretation) == evaluate_term(atom.second, interpretation)\n",
    "    elif isinstance(atom, RelationFormula):\n",
    "        return interpretation.structure.relations[atom.relation](\n",
    "            *[evaluate_term(arg, interpretation) for arg in atom.arguments]\n",
    "        )\n",
    "    else:\n",
    "        raise TypeError\n"
   ]
  },
  {
   "cell_type": "code",
   "execution_count": 4,
   "id": "a6c254db",
   "metadata": {},
   "outputs": [],
   "source": [
    "def evaluate_term(term, interpretation):\n",
    "    \"\"\"Evaluates a term to the element of the universe defined by it and the interpretation.\n",
    "\n",
    "    Args:\n",
    "        term: An arbitrary term using the same signature as the structure and variables from the assignment.\n",
    "        interpretation: The corresponding interpretation.\n",
    "    Returns:\n",
    "        The value the term evaluates to.\n",
    "    Example:\n",
    "        Given `f(a, b)` and an interpretation where `f` is interpreted as addition and `a` and `b` as 1 and 2,\n",
    "        this function should return `3`.\n",
    "    \"\"\"\n",
    "\n",
    "    assert term.symbols <= interpretation.structure.symbols\n",
    "    assert term.variables <= interpretation.assignment.keys()\n",
    "\n",
    "    if isinstance(term, Variable):\n",
    "        return interpretation.assignment[term]\n",
    "    elif isinstance(term, FunctionTerm):\n",
    "        return interpretation.structure.functions[term.function](\n",
    "            *[evaluate_term(arg, interpretation) for arg in term.arguments]\n",
    "        )\n",
    "    else:\n",
    "        raise TypeError\n"
   ]
  },
  {
   "cell_type": "code",
   "execution_count": 5,
   "id": "1ef0dcec",
   "metadata": {},
   "outputs": [],
   "source": [
    "t, v1, v2 = FunctionSymbol(\"Add\", 2), Variable(\"v1\"), Variable(\"v2\")"
   ]
  },
  {
   "cell_type": "code",
   "execution_count": 7,
   "id": "f2a71859",
   "metadata": {},
   "outputs": [],
   "source": [
    "r = RelationSymbol(\"R\", 2)"
   ]
  },
  {
   "cell_type": "code",
   "execution_count": 8,
   "id": "f2db359a",
   "metadata": {},
   "outputs": [],
   "source": [
    "test = Interpretation(\n",
    "    Structure(range(10), {r: lambda n,m: n+1 == m, t: lambda a,b: a+b}),\n",
    "    {v1: 2, v2: 3}\n",
    ")"
   ]
  },
  {
   "cell_type": "code",
   "execution_count": null,
   "id": "99fa12cf",
   "metadata": {},
   "outputs": [],
   "source": []
  }
 ],
 "metadata": {
  "kernelspec": {
   "display_name": "Python 3 (ipykernel)",
   "language": "python",
   "name": "python3"
  },
  "language_info": {
   "codemirror_mode": {
    "name": "ipython",
    "version": 3
   },
   "file_extension": ".py",
   "mimetype": "text/x-python",
   "name": "python",
   "nbconvert_exporter": "python",
   "pygments_lexer": "ipython3",
   "version": "3.11.2"
  }
 },
 "nbformat": 4,
 "nbformat_minor": 5
}
